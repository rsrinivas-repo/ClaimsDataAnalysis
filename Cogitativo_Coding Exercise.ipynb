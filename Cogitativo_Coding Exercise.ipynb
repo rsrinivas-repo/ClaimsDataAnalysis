{
 "cells": [
  {
   "cell_type": "code",
   "execution_count": 1,
   "metadata": {
    "collapsed": true
   },
   "outputs": [],
   "source": [
    "import pandas as pd"
   ]
  },
  {
   "cell_type": "code",
   "execution_count": 2,
   "metadata": {
    "collapsed": false
   },
   "outputs": [
    {
     "name": "stderr",
     "output_type": "stream",
     "text": [
      "/Users/raghuramsrinivas/anaconda/lib/python2.7/site-packages/IPython/core/interactiveshell.py:2723: DtypeWarning: Columns (6) have mixed types. Specify dtype option on import or set low_memory=False.\n",
      "  interactivity=interactivity, compiler=compiler, result=result)\n"
     ]
    }
   ],
   "source": [
    "df = pd.read_csv('data/claim.sample.csv',index_col=None)"
   ]
  },
  {
   "cell_type": "code",
   "execution_count": null,
   "metadata": {
    "collapsed": false
   },
   "outputs": [],
   "source": [
    "\"\"\"\n",
    "for colName in df.columns :\n",
    "    \n",
    "    print \"Column : \"+colName\n",
    "    print df[colName].unique()\n",
    "    print 'Size %d' % len(df[colName].unique())\n",
    "    print \"\\n\\n\"\n",
    "\"\"\""
   ]
  },
  {
   "cell_type": "code",
   "execution_count": null,
   "metadata": {
    "collapsed": false
   },
   "outputs": [],
   "source": []
  },
  {
   "cell_type": "markdown",
   "metadata": {
    "collapsed": false
   },
   "source": [
    "## Questions 1\n",
    "1. J-codes are procedure codes that start with the letter 'J'. Extract all claim lines that have a J-code to complete the following exercises. <br>\n",
    "\n",
    "     A. Find the number of claim lines that have J-codes.\n",
    "     \n",
    "     B. How much was paid for J-codes to providers for 'in network' claims?\n",
    "     \n",
    "     C. What are the top five J-codes based on the payment to providers?"
   ]
  },
  {
   "cell_type": "markdown",
   "metadata": {
    "collapsed": false
   },
   "source": [
    "#### A. Find the number of claim lines that have J-codes."
   ]
  },
  {
   "cell_type": "code",
   "execution_count": 3,
   "metadata": {
    "collapsed": false
   },
   "outputs": [],
   "source": [
    "## Extract  J procedure codes\n",
    "dfJCodes = df[df['Procedure.Code'].str.startswith('J')]"
   ]
  },
  {
   "cell_type": "code",
   "execution_count": 4,
   "metadata": {
    "collapsed": false
   },
   "outputs": [
    {
     "data": {
      "text/html": [
       "<div>\n",
       "<table border=\"1\" class=\"dataframe\">\n",
       "  <thead>\n",
       "    <tr style=\"text-align: right;\">\n",
       "      <th></th>\n",
       "      <th>Unnamed: 0</th>\n",
       "      <th>Claim.Number</th>\n",
       "      <th>Claim.Line.Number</th>\n",
       "      <th>Member.ID</th>\n",
       "      <th>Provider.ID</th>\n",
       "      <th>Line.Of.Business.ID</th>\n",
       "      <th>Revenue.Code</th>\n",
       "      <th>Service.Code</th>\n",
       "      <th>Place.Of.Service.Code</th>\n",
       "      <th>Procedure.Code</th>\n",
       "      <th>...</th>\n",
       "      <th>Provider.Payment.Amount</th>\n",
       "      <th>Group.Index</th>\n",
       "      <th>Subscriber.Index</th>\n",
       "      <th>Subgroup.Index</th>\n",
       "      <th>Claim.Type</th>\n",
       "      <th>Claim.Subscriber.Type</th>\n",
       "      <th>Claim.Pre.Prince.Index</th>\n",
       "      <th>Claim.Current.Status</th>\n",
       "      <th>Network.ID</th>\n",
       "      <th>Agreement.ID</th>\n",
       "    </tr>\n",
       "  </thead>\n",
       "  <tbody>\n",
       "    <tr>\n",
       "      <th>3073</th>\n",
       "      <td>3074</td>\n",
       "      <td>74645490.0</td>\n",
       "      <td>10</td>\n",
       "      <td>1992052</td>\n",
       "      <td>FA0001389001</td>\n",
       "      <td>0005</td>\n",
       "      <td>0636</td>\n",
       "      <td>OP7O</td>\n",
       "      <td></td>\n",
       "      <td>J1650</td>\n",
       "      <td>...</td>\n",
       "      <td>0.0</td>\n",
       "      <td>114</td>\n",
       "      <td>1613650</td>\n",
       "      <td>0</td>\n",
       "      <td>M</td>\n",
       "      <td>H</td>\n",
       "      <td>S</td>\n",
       "      <td>91</td>\n",
       "      <td>P00000000001</td>\n",
       "      <td>FH001309QB01</td>\n",
       "    </tr>\n",
       "    <tr>\n",
       "      <th>3091</th>\n",
       "      <td>3092</td>\n",
       "      <td>18860690.0</td>\n",
       "      <td>8</td>\n",
       "      <td>22808129</td>\n",
       "      <td>FA0001389001</td>\n",
       "      <td>0001</td>\n",
       "      <td>0636</td>\n",
       "      <td>OP7O</td>\n",
       "      <td></td>\n",
       "      <td>J2405</td>\n",
       "      <td>...</td>\n",
       "      <td>0.0</td>\n",
       "      <td>275</td>\n",
       "      <td>18475600</td>\n",
       "      <td>483</td>\n",
       "      <td>M</td>\n",
       "      <td>H</td>\n",
       "      <td></td>\n",
       "      <td>2</td>\n",
       "      <td>H00000000001</td>\n",
       "      <td>FH001886QH01</td>\n",
       "    </tr>\n",
       "    <tr>\n",
       "      <th>3092</th>\n",
       "      <td>3093</td>\n",
       "      <td>18860690.0</td>\n",
       "      <td>9</td>\n",
       "      <td>22808129</td>\n",
       "      <td>FA0001389001</td>\n",
       "      <td>0001</td>\n",
       "      <td>0636</td>\n",
       "      <td>OP7O</td>\n",
       "      <td></td>\n",
       "      <td>J7030</td>\n",
       "      <td>...</td>\n",
       "      <td>0.0</td>\n",
       "      <td>275</td>\n",
       "      <td>18475600</td>\n",
       "      <td>483</td>\n",
       "      <td>M</td>\n",
       "      <td>H</td>\n",
       "      <td></td>\n",
       "      <td>2</td>\n",
       "      <td>H00000000001</td>\n",
       "      <td>FH001886QH01</td>\n",
       "    </tr>\n",
       "  </tbody>\n",
       "</table>\n",
       "<p>3 rows × 29 columns</p>\n",
       "</div>"
      ],
      "text/plain": [
       "      Unnamed: 0  Claim.Number  Claim.Line.Number  Member.ID   Provider.ID  \\\n",
       "3073        3074    74645490.0                 10    1992052  FA0001389001   \n",
       "3091        3092    18860690.0                  8   22808129  FA0001389001   \n",
       "3092        3093    18860690.0                  9   22808129  FA0001389001   \n",
       "\n",
       "     Line.Of.Business.ID Revenue.Code Service.Code Place.Of.Service.Code  \\\n",
       "3073                0005         0636         OP7O                         \n",
       "3091                0001         0636         OP7O                         \n",
       "3092                0001         0636         OP7O                         \n",
       "\n",
       "     Procedure.Code      ...      Provider.Payment.Amount  Group.Index  \\\n",
       "3073          J1650      ...                          0.0          114   \n",
       "3091          J2405      ...                          0.0          275   \n",
       "3092          J7030      ...                          0.0          275   \n",
       "\n",
       "     Subscriber.Index Subgroup.Index Claim.Type Claim.Subscriber.Type  \\\n",
       "3073          1613650              0          M                     H   \n",
       "3091         18475600            483          M                     H   \n",
       "3092         18475600            483          M                     H   \n",
       "\n",
       "     Claim.Pre.Prince.Index Claim.Current.Status    Network.ID  Agreement.ID  \n",
       "3073                      S                   91  P00000000001  FH001309QB01  \n",
       "3091                                           2  H00000000001  FH001886QH01  \n",
       "3092                                           2  H00000000001  FH001886QH01  \n",
       "\n",
       "[3 rows x 29 columns]"
      ]
     },
     "execution_count": 4,
     "metadata": {},
     "output_type": "execute_result"
    }
   ],
   "source": [
    "dfJCodes.head(3)"
   ]
  },
  {
   "cell_type": "code",
   "execution_count": 5,
   "metadata": {
    "collapsed": false
   },
   "outputs": [
    {
     "name": "stdout",
     "output_type": "stream",
     "text": [
      "1.A. Find the number of claim lines that have J-codes.\n",
      "The number of claim lines with J Procedure codes : 51029\n"
     ]
    }
   ],
   "source": [
    "print \"1.A. Find the number of claim lines that have J-codes.\"\n",
    "print \"The number of claim lines with J Procedure codes : %d\"% dfJCodes.shape[0]"
   ]
  },
  {
   "cell_type": "markdown",
   "metadata": {},
   "source": [
    "##### Based on the analysis above \n",
    "\n",
    "The number of claim lines with J Procedure codes : 51029"
   ]
  },
  {
   "cell_type": "code",
   "execution_count": 6,
   "metadata": {
    "collapsed": false
   },
   "outputs": [
    {
     "data": {
      "text/plain": [
       "'\\nfor colName in dfJCodes.columns :\\n    print \"Column : \"+colName +\\': Size %d\\' % len(dfJCodes[colName].unique()) +\"\"\\n'"
      ]
     },
     "execution_count": 6,
     "metadata": {},
     "output_type": "execute_result"
    }
   ],
   "source": [
    "\"\"\"\n",
    "for colName in dfJCodes.columns :\n",
    "    print \"Column : \"+colName +': Size %d' % len(dfJCodes[colName].unique()) +\"\"\n",
    "\"\"\""
   ]
  },
  {
   "cell_type": "code",
   "execution_count": null,
   "metadata": {
    "collapsed": true
   },
   "outputs": [],
   "source": []
  },
  {
   "cell_type": "markdown",
   "metadata": {},
   "source": [
    "#### B. How much was paid for J-codes to providers for 'in network' claims?\""
   ]
  },
  {
   "cell_type": "markdown",
   "metadata": {},
   "source": [
    "###### The In Network / Out network claims is indicated as I as In Network , O or ' ' as Out Of Network"
   ]
  },
  {
   "cell_type": "code",
   "execution_count": null,
   "metadata": {
    "collapsed": false
   },
   "outputs": [],
   "source": []
  },
  {
   "cell_type": "code",
   "execution_count": 7,
   "metadata": {
    "collapsed": true
   },
   "outputs": [],
   "source": [
    "def setInOutFlag(x):\n",
    "    x = x.strip()\n",
    "    if len(x) > 0 :\n",
    "        return x\n",
    "    return 'O'"
   ]
  },
  {
   "cell_type": "code",
   "execution_count": 8,
   "metadata": {
    "collapsed": false
   },
   "outputs": [
    {
     "name": "stdout",
     "output_type": "stream",
     "text": [
      "Values in the In/Out Network claims : ['I' ' ' 'O']\n",
      "Payments disbursed by In/Out network claim : \n",
      "In.Out.Of.Network\n",
      "     0.000000e+00\n",
      "I    2.417221e+06\n",
      "O    1.208613e+03\n",
      "Name: Provider.Payment.Amount, dtype: float64\n"
     ]
    }
   ],
   "source": [
    "print \"Values in the In/Out Network claims : %s\" % dfJCodes['In.Out.Of.Network'].unique()\n",
    "\n",
    "print \"Payments disbursed by In/Out network claim : \\n%s\" % dfJCodes['Provider.Payment.Amount'].groupby(dfJCodes['In.Out.Of.Network']).sum()"
   ]
  },
  {
   "cell_type": "markdown",
   "metadata": {},
   "source": [
    "The In.Out.Of.Network column contains entries with a value = ' ' . However no claims have been paid for this value. This will hence be interpreted as Out of network"
   ]
  },
  {
   "cell_type": "code",
   "execution_count": 9,
   "metadata": {
    "collapsed": false
   },
   "outputs": [
    {
     "name": "stderr",
     "output_type": "stream",
     "text": [
      "/Users/raghuramsrinivas/anaconda/lib/python2.7/site-packages/ipykernel/__main__.py:1: SettingWithCopyWarning: \n",
      "A value is trying to be set on a copy of a slice from a DataFrame.\n",
      "Try using .loc[row_indexer,col_indexer] = value instead\n",
      "\n",
      "See the caveats in the documentation: http://pandas.pydata.org/pandas-docs/stable/indexing.html#indexing-view-versus-copy\n",
      "  if __name__ == '__main__':\n"
     ]
    }
   ],
   "source": [
    "dfJCodes['In.Out.Of.Network'] = dfJCodes['In.Out.Of.Network'].apply(lambda x : setInOutFlag(x))"
   ]
  },
  {
   "cell_type": "code",
   "execution_count": 10,
   "metadata": {
    "collapsed": false
   },
   "outputs": [
    {
     "name": "stdout",
     "output_type": "stream",
     "text": [
      "Payments disbursed by In/Out network claim : \n",
      "In.Out.Of.Network\n",
      "I    2.417221e+06\n",
      "O    1.208613e+03\n",
      "Name: Provider.Payment.Amount, dtype: float64\n"
     ]
    }
   ],
   "source": [
    "print \"Payments disbursed by In/Out network claim : \\n%s\" % dfJCodes['Provider.Payment.Amount'].groupby(dfJCodes['In.Out.Of.Network']).sum()"
   ]
  },
  {
   "cell_type": "markdown",
   "metadata": {},
   "source": [
    "###### Based on analysis above \n",
    "\n",
    "Total Claims disbursed for In Network claims = $ 2,417,221\n",
    "\n",
    "Total Claims disbursed for Out of Network claims = $ 1,208.61"
   ]
  },
  {
   "cell_type": "code",
   "execution_count": null,
   "metadata": {
    "collapsed": true
   },
   "outputs": [],
   "source": []
  },
  {
   "cell_type": "markdown",
   "metadata": {},
   "source": [
    "#####     C. What are the top five J-codes based on the payment to providers?"
   ]
  },
  {
   "cell_type": "code",
   "execution_count": 11,
   "metadata": {
    "collapsed": false
   },
   "outputs": [],
   "source": [
    "PaymentsByJCodes = dfJCodes.groupby(dfJCodes['Procedure.Code']).sum()"
   ]
  },
  {
   "cell_type": "code",
   "execution_count": 12,
   "metadata": {
    "collapsed": false
   },
   "outputs": [],
   "source": [
    "PaymentsByJCodes.to_csv(\"data/PaymentsByJCodes.csv\")\n",
    "PaymentsByJCodes = pd.read_csv(\"data/PaymentsByJCodes.csv\")"
   ]
  },
  {
   "cell_type": "code",
   "execution_count": 13,
   "metadata": {
    "collapsed": false
   },
   "outputs": [
    {
     "data": {
      "text/html": [
       "<div>\n",
       "<table border=\"1\" class=\"dataframe\">\n",
       "  <thead>\n",
       "    <tr style=\"text-align: right;\">\n",
       "      <th></th>\n",
       "      <th>Procedure.Code</th>\n",
       "      <th>Unnamed: 0</th>\n",
       "      <th>Claim.Number</th>\n",
       "      <th>Claim.Line.Number</th>\n",
       "      <th>Member.ID</th>\n",
       "      <th>Claim.Charge.Amount</th>\n",
       "      <th>Subscriber.Payment.Amount</th>\n",
       "      <th>Provider.Payment.Amount</th>\n",
       "      <th>Group.Index</th>\n",
       "      <th>Subscriber.Index</th>\n",
       "      <th>Subgroup.Index</th>\n",
       "      <th>Claim.Current.Status</th>\n",
       "    </tr>\n",
       "  </thead>\n",
       "  <tbody>\n",
       "    <tr>\n",
       "      <th>0</th>\n",
       "      <td>J0130</td>\n",
       "      <td>241514</td>\n",
       "      <td>5.240329e+08</td>\n",
       "      <td>31</td>\n",
       "      <td>39086060</td>\n",
       "      <td>6707.594025</td>\n",
       "      <td>0.0</td>\n",
       "      <td>0.000000</td>\n",
       "      <td>572</td>\n",
       "      <td>31661450</td>\n",
       "      <td>0</td>\n",
       "      <td>2</td>\n",
       "    </tr>\n",
       "    <tr>\n",
       "      <th>1</th>\n",
       "      <td>J0131</td>\n",
       "      <td>106194058</td>\n",
       "      <td>3.059257e+11</td>\n",
       "      <td>5650</td>\n",
       "      <td>18706322573</td>\n",
       "      <td>209024.898060</td>\n",
       "      <td>0.0</td>\n",
       "      <td>12508.373730</td>\n",
       "      <td>5660520</td>\n",
       "      <td>15152954600</td>\n",
       "      <td>3081401</td>\n",
       "      <td>8781</td>\n",
       "    </tr>\n",
       "    <tr>\n",
       "      <th>2</th>\n",
       "      <td>J0133</td>\n",
       "      <td>1393932</td>\n",
       "      <td>2.601180e+09</td>\n",
       "      <td>66</td>\n",
       "      <td>191819943</td>\n",
       "      <td>1057.657875</td>\n",
       "      <td>0.0</td>\n",
       "      <td>137.560335</td>\n",
       "      <td>69840</td>\n",
       "      <td>155382700</td>\n",
       "      <td>73578</td>\n",
       "      <td>245</td>\n",
       "    </tr>\n",
       "  </tbody>\n",
       "</table>\n",
       "</div>"
      ],
      "text/plain": [
       "  Procedure.Code  Unnamed: 0  Claim.Number  Claim.Line.Number    Member.ID  \\\n",
       "0          J0130      241514  5.240329e+08                 31     39086060   \n",
       "1          J0131   106194058  3.059257e+11               5650  18706322573   \n",
       "2          J0133     1393932  2.601180e+09                 66    191819943   \n",
       "\n",
       "   Claim.Charge.Amount  Subscriber.Payment.Amount  Provider.Payment.Amount  \\\n",
       "0          6707.594025                        0.0                 0.000000   \n",
       "1        209024.898060                        0.0             12508.373730   \n",
       "2          1057.657875                        0.0               137.560335   \n",
       "\n",
       "   Group.Index  Subscriber.Index  Subgroup.Index  Claim.Current.Status  \n",
       "0          572          31661450               0                     2  \n",
       "1      5660520       15152954600         3081401                  8781  \n",
       "2        69840         155382700           73578                   245  "
      ]
     },
     "execution_count": 13,
     "metadata": {},
     "output_type": "execute_result"
    }
   ],
   "source": [
    "PaymentsByJCodes.head(3)"
   ]
  },
  {
   "cell_type": "code",
   "execution_count": 14,
   "metadata": {
    "collapsed": false
   },
   "outputs": [
    {
     "data": {
      "text/plain": [
       "2418429.57165"
      ]
     },
     "execution_count": 14,
     "metadata": {},
     "output_type": "execute_result"
    }
   ],
   "source": [
    "PaymentsByJCodes['Provider.Payment.Amount'].sum()"
   ]
  },
  {
   "cell_type": "code",
   "execution_count": 15,
   "metadata": {
    "collapsed": false
   },
   "outputs": [],
   "source": [
    "listProcedureCodes = PaymentsByJCodes['Procedure.Code']\n",
    "listProviderPayments = PaymentsByJCodes['Provider.Payment.Amount']\n",
    "listProviderPayments = listProviderPayments/2418429.57165"
   ]
  },
  {
   "cell_type": "code",
   "execution_count": 18,
   "metadata": {
    "collapsed": true
   },
   "outputs": [],
   "source": [
    "from IPython.display import Image\n",
    "\n",
    "import plotly.plotly as py\n",
    "import plotly.graph_objs as go"
   ]
  },
  {
   "cell_type": "code",
   "execution_count": 19,
   "metadata": {
    "collapsed": false
   },
   "outputs": [
    {
     "data": {
      "image/png": "[encoded data removed]",
      "text/plain": [
       "<IPython.core.display.Image object>"
      ]
     },
     "execution_count": 19,
     "metadata": {},
     "output_type": "execute_result"
    }
   ],
   "source": [
    "labels = listProcedureCodes\n",
    "values = listProviderPayments\n",
    "\n",
    "trace = go.Pie(labels=labels, values=values, textposition ='inside')\n",
    "##, \"textposition\":\"inside\"\n",
    "data = [trace]\n",
    "layout = dict(title = 'Claims payment by procedure codes')\n",
    "fig = dict(data=data, layout=layout )\n",
    "\n",
    "# Plot and embed in ipython notebook!\n",
    "py.image.save_as(fig, filename='plots/payments by procedure code.png')\n",
    "\n",
    "Image('plots/payments by procedure code.png')"
   ]
  },
  {
   "cell_type": "markdown",
   "metadata": {},
   "source": [
    "##### From the analysis above  we see that the following are the top 5 J procedure codes with approved claims :\n",
    "J1745  <br>\n",
    "J0180  <br>\n",
    "J9310 <br>\n",
    "J3490  <br>\n",
    "J1644  <br>\n"
   ]
  },
  {
   "cell_type": "code",
   "execution_count": 20,
   "metadata": {
    "collapsed": true
   },
   "outputs": [],
   "source": [
    "import warnings\n",
    "warnings.filterwarnings('ignore')"
   ]
  },
  {
   "cell_type": "markdown",
   "metadata": {},
   "source": [
    "#### Question 2\n",
    "2. For the following exercises, determine the number of providers that were paid for at least one J-code. Use the J-code claim lines for these providers to complete the following exercises.\n",
    "\n",
    "     A. Create a scatter plot that displays the number of paid zero or zero payment claims for each provider versus the number of paid claims.\n",
    "     \n",
    "     B. What insights can you suggest from the graph?\n",
    "     \n",
    "     C. Based on the graph, is the behavior of any of the providers concerning? Explain.\n",
    " "
   ]
  },
  {
   "cell_type": "markdown",
   "metadata": {},
   "source": [
    "#### For thie question , we will first create a variable by name PaymentDeclined to flag approved/declined claims"
   ]
  },
  {
   "cell_type": "code",
   "execution_count": 21,
   "metadata": {
    "collapsed": true
   },
   "outputs": [],
   "source": [
    "def isDeclined(x) :\n",
    "    if x==0:\n",
    "        return 1\n",
    "    return 0\n",
    "dfJCodes['PaymentDeclined'] = dfJCodes['Provider.Payment.Amount']\n",
    "dfJCodes['PaymentDeclined'] = dfJCodes['PaymentDeclined'].apply(lambda x : isDeclined(x))"
   ]
  },
  {
   "cell_type": "markdown",
   "metadata": {},
   "source": [
    "#### We will first examine how many claims have been approved v/s declined"
   ]
  },
  {
   "cell_type": "code",
   "execution_count": 22,
   "metadata": {
    "collapsed": false
   },
   "outputs": [
    {
     "data": {
      "text/plain": [
       "PaymentDeclined\n",
       "0     6068\n",
       "1    44961\n",
       "Name: Claim.Line.Number, dtype: int64"
      ]
     },
     "execution_count": 22,
     "metadata": {},
     "output_type": "execute_result"
    }
   ],
   "source": [
    "##Check how many total payments are Paid v/s Declined\n",
    "dfJCodes.groupby(dfJCodes.PaymentDeclined).count()['Claim.Line.Number']"
   ]
  },
  {
   "cell_type": "code",
   "execution_count": 23,
   "metadata": {
    "collapsed": true
   },
   "outputs": [],
   "source": [
    "import plotly.plotly as py\n",
    "import plotly.graph_objs as go"
   ]
  },
  {
   "cell_type": "code",
   "execution_count": 24,
   "metadata": {
    "collapsed": false
   },
   "outputs": [
    {
     "data": {
      "image/png": "[encoded data removed]",
      "text/plain": [
       "<IPython.core.display.Image object>"
      ]
     },
     "execution_count": 24,
     "metadata": {},
     "output_type": "execute_result"
    }
   ],
   "source": [
    "TotalPaid = dfJCodes.groupby(dfJCodes.PaymentDeclined).count()['Claim.Line.Number'][0]\n",
    "TotalDeclined = dfJCodes.groupby(dfJCodes.PaymentDeclined).count()['Claim.Line.Number'][1]\n",
    "\n",
    "labels = ['Claims Paid', 'Claims Declined']\n",
    "values = [TotalPaid,TotalDeclined]\n",
    "\n",
    "trace = go.Pie(labels=labels, values=values , textposition ='inside')\n",
    "\n",
    "data = [trace]\n",
    "layout = dict(title = 'Percentage of declined claims')\n",
    "fig = dict(data=data, layout=layout)\n",
    "\n",
    "# Plot and embed in ipython notebook!\n",
    "py.image.save_as(fig, filename='plots/pie-chart-decline counts.png')\n",
    "\n",
    "from IPython.display import Image\n",
    "Image('plots/pie-chart-decline counts.png')\n"
   ]
  },
  {
   "cell_type": "markdown",
   "metadata": {},
   "source": [
    "##### Observation : Close to 88% of claim lines with 'J' procedure codes are declined"
   ]
  },
  {
   "cell_type": "code",
   "execution_count": null,
   "metadata": {
    "collapsed": false
   },
   "outputs": [],
   "source": []
  },
  {
   "cell_type": "code",
   "execution_count": 25,
   "metadata": {
    "collapsed": false
   },
   "outputs": [],
   "source": [
    "listColNames = ['Provider.ID','Line.Of.Business.ID' ,'Revenue.Code' ,'Service.Code' ,'Place.Of.Service.Code' ,'Procedure.Code','Diagnosis.Code' ,\n",
    "'Price.Index' ,'In.Out.Of.Network' ,'Reference.Index' ,'Pricing.Index' ,'Capitation.Index' ,'Group.Index' ,\n",
    "'Subscriber.Index' ,'Subgroup.Index' ,'Claim.Type' ,'Claim.Subscriber.Type' ,'Claim.Pre.Prince.Index' ,'Claim.Line.Number']"
   ]
  },
  {
   "cell_type": "code",
   "execution_count": 26,
   "metadata": {
    "collapsed": true
   },
   "outputs": [],
   "source": [
    "import numpy as np\n",
    "from IPython.display import Image\n",
    "from IPython.core.display import display, HTML\n"
   ]
  },
  {
   "cell_type": "markdown",
   "metadata": {},
   "source": [
    "#### Generation of Prior probabilities : \n",
    "Most of the features in the dataset are catagorical . Hence we will generate prior probabilities for the columns in the data set"
   ]
  },
  {
   "cell_type": "code",
   "execution_count": null,
   "metadata": {
    "collapsed": false
   },
   "outputs": [],
   "source": [
    "### RUN THIS ONLY ONCE. Data and Plots saved under data/ and plots/\n",
    "for colName in listColNames :\n",
    "    \n",
    "    ##print \"**********************************************************************************************************\"\n",
    "    print \"Generating Prior probabilities for  \"+colName\n",
    "    #colName = 'Diagnosis.Code'\n",
    "\n",
    "    \n",
    "    dfTemp  = dfJCodes.groupby([dfJCodes[colName],dfJCodes['PaymentDeclined']]).count()\n",
    "    dfTemp.to_csv(\"data/\"+colName+\".csv\")\n",
    "    dfTemp = pd.read_csv(\"data/\"+colName+\".csv\")\n",
    "    dfTemp = dfTemp[dfTemp.PaymentDeclined==1]\n",
    "    \n",
    "    listClaims = dfTemp['Claim.Line.Number']\n",
    "    \n",
    "    listClaims = listClaims / TotalDeclined\n",
    "    \n",
    "    #print \"Column Name : %s\" %colName\n",
    "    #print \"Total Records : %.2f\" %len(dfTemp[colName].unique())\n",
    "    #print \"Sum of Records : %.2f\" %sum(listClaims)\n",
    "    #print \"Max Value : %.2f\" % max(listClaims)\n",
    "    \n",
    "\n",
    "        \n",
    "    labels = dfTemp[colName]\n",
    "    values = listClaims\n",
    "\n",
    "    \n",
    "    if len(dfTemp[colName].unique()) > 1000 :\n",
    "        print \"skipping \"+colName\n",
    "        continue\n",
    "        \n",
    "        \n",
    "    trace = go.Pie(labels=labels, values=values , textposition ='inside')\n",
    "    data = [trace]\n",
    "    layout = dict(title = 'Percentage of declined claims per '+colName)\n",
    "    fig = dict(data=data, layout=layout)\n",
    "\n",
    "    # Plot and embed in ipython notebook!\n",
    "    py.image.save_as(fig, filename=\"plots/pie-chart-decline counts \"+colName.replace('.','')+\".png\")\n",
    "    #display(HTML(\"<img src='plots/pie-chart-decline counts \"+colName.replace('.','')+\".png' >\"))\n",
    "    \n",
    "\n",
    "    "
   ]
  },
  {
   "cell_type": "markdown",
   "metadata": {},
   "source": [
    "#### Analysis of priors on Provider ID\n",
    "\n",
    "Next , we will analyze the claim payments by provider "
   ]
  },
  {
   "cell_type": "code",
   "execution_count": 27,
   "metadata": {
    "collapsed": false
   },
   "outputs": [],
   "source": [
    "dfProviders = pd.read_csv('data/Provider.ID.csv')"
   ]
  },
  {
   "cell_type": "code",
   "execution_count": 28,
   "metadata": {
    "collapsed": false
   },
   "outputs": [
    {
     "data": {
      "text/html": [
       "<div>\n",
       "<table border=\"1\" class=\"dataframe\">\n",
       "  <thead>\n",
       "    <tr style=\"text-align: right;\">\n",
       "      <th></th>\n",
       "      <th>Provider.ID</th>\n",
       "      <th>PaymentDeclined</th>\n",
       "      <th>Unnamed: 0</th>\n",
       "      <th>Claim.Number</th>\n",
       "      <th>Claim.Line.Number</th>\n",
       "      <th>Member.ID</th>\n",
       "      <th>Line.Of.Business.ID</th>\n",
       "      <th>Revenue.Code</th>\n",
       "      <th>Service.Code</th>\n",
       "      <th>Place.Of.Service.Code</th>\n",
       "      <th>...</th>\n",
       "      <th>Provider.Payment.Amount</th>\n",
       "      <th>Group.Index</th>\n",
       "      <th>Subscriber.Index</th>\n",
       "      <th>Subgroup.Index</th>\n",
       "      <th>Claim.Type</th>\n",
       "      <th>Claim.Subscriber.Type</th>\n",
       "      <th>Claim.Pre.Prince.Index</th>\n",
       "      <th>Claim.Current.Status</th>\n",
       "      <th>Network.ID</th>\n",
       "      <th>Agreement.ID</th>\n",
       "    </tr>\n",
       "  </thead>\n",
       "  <tbody>\n",
       "    <tr>\n",
       "      <th>0</th>\n",
       "      <td>FA0001387001</td>\n",
       "      <td>0</td>\n",
       "      <td>74</td>\n",
       "      <td>74</td>\n",
       "      <td>74</td>\n",
       "      <td>74</td>\n",
       "      <td>74</td>\n",
       "      <td>74</td>\n",
       "      <td>74</td>\n",
       "      <td>74</td>\n",
       "      <td>...</td>\n",
       "      <td>74</td>\n",
       "      <td>74</td>\n",
       "      <td>74</td>\n",
       "      <td>74</td>\n",
       "      <td>74</td>\n",
       "      <td>74</td>\n",
       "      <td>74</td>\n",
       "      <td>74</td>\n",
       "      <td>74</td>\n",
       "      <td>74</td>\n",
       "    </tr>\n",
       "    <tr>\n",
       "      <th>1</th>\n",
       "      <td>FA0001387001</td>\n",
       "      <td>1</td>\n",
       "      <td>8710</td>\n",
       "      <td>67</td>\n",
       "      <td>8710</td>\n",
       "      <td>8710</td>\n",
       "      <td>8710</td>\n",
       "      <td>8710</td>\n",
       "      <td>8710</td>\n",
       "      <td>8710</td>\n",
       "      <td>...</td>\n",
       "      <td>8710</td>\n",
       "      <td>8710</td>\n",
       "      <td>8710</td>\n",
       "      <td>8710</td>\n",
       "      <td>8710</td>\n",
       "      <td>8710</td>\n",
       "      <td>8710</td>\n",
       "      <td>8710</td>\n",
       "      <td>8710</td>\n",
       "      <td>8710</td>\n",
       "    </tr>\n",
       "    <tr>\n",
       "      <th>2</th>\n",
       "      <td>FA0001387002</td>\n",
       "      <td>0</td>\n",
       "      <td>1786</td>\n",
       "      <td>1786</td>\n",
       "      <td>1786</td>\n",
       "      <td>1786</td>\n",
       "      <td>1786</td>\n",
       "      <td>1786</td>\n",
       "      <td>1786</td>\n",
       "      <td>1786</td>\n",
       "      <td>...</td>\n",
       "      <td>1786</td>\n",
       "      <td>1786</td>\n",
       "      <td>1786</td>\n",
       "      <td>1786</td>\n",
       "      <td>1786</td>\n",
       "      <td>1786</td>\n",
       "      <td>1786</td>\n",
       "      <td>1786</td>\n",
       "      <td>1786</td>\n",
       "      <td>1786</td>\n",
       "    </tr>\n",
       "    <tr>\n",
       "      <th>3</th>\n",
       "      <td>FA0001387002</td>\n",
       "      <td>1</td>\n",
       "      <td>9799</td>\n",
       "      <td>9799</td>\n",
       "      <td>9799</td>\n",
       "      <td>9799</td>\n",
       "      <td>9799</td>\n",
       "      <td>9799</td>\n",
       "      <td>9799</td>\n",
       "      <td>9799</td>\n",
       "      <td>...</td>\n",
       "      <td>9799</td>\n",
       "      <td>9799</td>\n",
       "      <td>9799</td>\n",
       "      <td>9799</td>\n",
       "      <td>9799</td>\n",
       "      <td>9799</td>\n",
       "      <td>9799</td>\n",
       "      <td>9799</td>\n",
       "      <td>9799</td>\n",
       "      <td>9799</td>\n",
       "    </tr>\n",
       "  </tbody>\n",
       "</table>\n",
       "<p>4 rows × 30 columns</p>\n",
       "</div>"
      ],
      "text/plain": [
       "    Provider.ID  PaymentDeclined  Unnamed: 0  Claim.Number  Claim.Line.Number  \\\n",
       "0  FA0001387001                0          74            74                 74   \n",
       "1  FA0001387001                1        8710            67               8710   \n",
       "2  FA0001387002                0        1786          1786               1786   \n",
       "3  FA0001387002                1        9799          9799               9799   \n",
       "\n",
       "   Member.ID  Line.Of.Business.ID  Revenue.Code  Service.Code  \\\n",
       "0         74                   74            74            74   \n",
       "1       8710                 8710          8710          8710   \n",
       "2       1786                 1786          1786          1786   \n",
       "3       9799                 9799          9799          9799   \n",
       "\n",
       "   Place.Of.Service.Code      ...       Provider.Payment.Amount  Group.Index  \\\n",
       "0                     74      ...                            74           74   \n",
       "1                   8710      ...                          8710         8710   \n",
       "2                   1786      ...                          1786         1786   \n",
       "3                   9799      ...                          9799         9799   \n",
       "\n",
       "   Subscriber.Index  Subgroup.Index  Claim.Type  Claim.Subscriber.Type  \\\n",
       "0                74              74          74                     74   \n",
       "1              8710            8710        8710                   8710   \n",
       "2              1786            1786        1786                   1786   \n",
       "3              9799            9799        9799                   9799   \n",
       "\n",
       "   Claim.Pre.Prince.Index  Claim.Current.Status  Network.ID  Agreement.ID  \n",
       "0                      74                    74          74            74  \n",
       "1                    8710                  8710        8710          8710  \n",
       "2                    1786                  1786        1786          1786  \n",
       "3                    9799                  9799        9799          9799  \n",
       "\n",
       "[4 rows x 30 columns]"
      ]
     },
     "execution_count": 28,
     "metadata": {},
     "output_type": "execute_result"
    }
   ],
   "source": [
    "dfProviders.head(4)"
   ]
  },
  {
   "cell_type": "code",
   "execution_count": 32,
   "metadata": {
    "collapsed": false
   },
   "outputs": [],
   "source": [
    "listProviders = []\n",
    "\n",
    "for providerId in dfProviders['Provider.ID'].unique():\n",
    "    \n",
    "    dictProvider = {}\n",
    "    NumNonPaid = dfProviders[(dfProviders['Provider.ID']== providerId) & (dfProviders['PaymentDeclined']==1) ]['Claim.Line.Number']\n",
    "\n",
    "    numPaid = dfProviders[(dfProviders['Provider.ID']== providerId) & (dfProviders['PaymentDeclined']==0) ]['Claim.Line.Number']\n",
    "    \n",
    "    intNotPaid = 0\n",
    "    intPaid = 0\n",
    "    if len(numPaid)==0:\n",
    "        intPaid  = 0 \n",
    "    else :\n",
    "        intPaid = numPaid.unique()[0]\n",
    "    \n",
    "    if len(numNotPaid)==0:\n",
    "        intNotPaid  = 0 \n",
    "    else :\n",
    "        intNotPaid = NumNonPaid.unique()[0]\n",
    "    \n",
    "        \n",
    "    dictProvider['NumPaid']  = intPaid\n",
    "    \n",
    "    dictProvider['NumNonPaid'] = intNotPaid\n",
    "    \n",
    "    dictProvider['ProviderID']  = providerId\n",
    "    \n",
    "    listProviders.append(dictProvider)\n",
    "    \n",
    "dfProviderClaims = pd.DataFrame(listProviders)\n"
   ]
  },
  {
   "cell_type": "code",
   "execution_count": 34,
   "metadata": {
    "collapsed": false
   },
   "outputs": [
    {
     "data": {
      "text/html": [
       "<div>\n",
       "<table border=\"1\" class=\"dataframe\">\n",
       "  <thead>\n",
       "    <tr style=\"text-align: right;\">\n",
       "      <th></th>\n",
       "      <th>NumNonPaid</th>\n",
       "      <th>NumPaid</th>\n",
       "      <th>ProviderID</th>\n",
       "    </tr>\n",
       "  </thead>\n",
       "  <tbody>\n",
       "    <tr>\n",
       "      <th>0</th>\n",
       "      <td>8710</td>\n",
       "      <td>74</td>\n",
       "      <td>FA0001387001</td>\n",
       "    </tr>\n",
       "    <tr>\n",
       "      <th>1</th>\n",
       "      <td>9799</td>\n",
       "      <td>1786</td>\n",
       "      <td>FA0001387002</td>\n",
       "    </tr>\n",
       "    <tr>\n",
       "      <th>2</th>\n",
       "      <td>13947</td>\n",
       "      <td>895</td>\n",
       "      <td>FA0001389001</td>\n",
       "    </tr>\n",
       "  </tbody>\n",
       "</table>\n",
       "</div>"
      ],
      "text/plain": [
       "   NumNonPaid  NumPaid    ProviderID\n",
       "0        8710       74  FA0001387001\n",
       "1        9799     1786  FA0001387002\n",
       "2       13947      895  FA0001389001"
      ]
     },
     "execution_count": 34,
     "metadata": {},
     "output_type": "execute_result"
    }
   ],
   "source": [
    "dfProviderClaims.head(3)"
   ]
  },
  {
   "cell_type": "code",
   "execution_count": 35,
   "metadata": {
    "collapsed": false
   },
   "outputs": [
    {
     "data": {
      "image/png": "[encoded data removed]",
      "text/plain": [
       "<IPython.core.display.Image object>"
      ]
     },
     "execution_count": 35,
     "metadata": {},
     "output_type": "execute_result"
    }
   ],
   "source": [
    "import plotly.plotly as py\n",
    "import plotly.graph_objs as go\n",
    "\n",
    "# Create random data with numpy\n",
    "import numpy as np\n",
    "\n",
    "dfProviderClaims = dfProviderClaims[dfProviderClaims.NumPaid > 0]\n",
    "data = []\n",
    "\n",
    "trace0 = go.Scatter(\n",
    "                y = (list(dfProviderClaims.NumNonPaid)),\n",
    "                x = (list(dfProviderClaims.NumPaid)),\n",
    "                mode = 'markers' , marker = dict(symbol=\"103\" , color =\"red\") ,\n",
    "                name ='Collaborative Filtering'\n",
    "                )\n",
    "    \n",
    "\n",
    "    \n",
    "data = [trace0]\n",
    "\n",
    "layout = dict(title = ' # Approved v/s # Declined claims per provider', \n",
    "              xaxis=dict(title='Approved Claims') , yaxis = dict(title=\"Declined Claims\") )\n",
    "\n",
    "\n",
    "fig = dict(data=data, layout=layout)\n",
    "\n",
    "# Plot and embed in ipython notebook!\n",
    "py.image.save_as(fig, filename='plots/paid per provider.png')\n",
    "\n",
    "\n",
    "Image('plots/paid per provider.png')\n"
   ]
  },
  {
   "cell_type": "markdown",
   "metadata": {},
   "source": [
    "Observation : The above graph clearly shows that \n",
    "    - only a fraction of claims are approved for payment per provider id.There are more rejected claims compared to the approved ones.\n",
    "    - Only a handful of providers ( ~3) have around 1000 - 2000 total approved claims .Even these are factional compared to the rejected claims\n",
    "    \n"
   ]
  },
  {
   "cell_type": "markdown",
   "metadata": {},
   "source": [
    "##### The high number of seems to indicate that the providers are either submitting fraudulent claims or incomplete claims\n",
    "\n",
    "\n",
    "We will further investigate if this pattern exists for InNetwork v.s Out of Network claims"
   ]
  },
  {
   "cell_type": "code",
   "execution_count": 39,
   "metadata": {
    "collapsed": false
   },
   "outputs": [
    {
     "data": {
      "text/html": [
       "<div>\n",
       "<table border=\"1\" class=\"dataframe\">\n",
       "  <thead>\n",
       "    <tr style=\"text-align: right;\">\n",
       "      <th></th>\n",
       "      <th>Provider.ID</th>\n",
       "      <th>In.Out.Of.Network</th>\n",
       "      <th>PaymentDeclined</th>\n",
       "      <th>Unnamed: 0</th>\n",
       "      <th>Claim.Number</th>\n",
       "      <th>Claim.Line.Number</th>\n",
       "      <th>Member.ID</th>\n",
       "      <th>Line.Of.Business.ID</th>\n",
       "      <th>Revenue.Code</th>\n",
       "      <th>Service.Code</th>\n",
       "      <th>...</th>\n",
       "      <th>Provider.Payment.Amount</th>\n",
       "      <th>Group.Index</th>\n",
       "      <th>Subscriber.Index</th>\n",
       "      <th>Subgroup.Index</th>\n",
       "      <th>Claim.Type</th>\n",
       "      <th>Claim.Subscriber.Type</th>\n",
       "      <th>Claim.Pre.Prince.Index</th>\n",
       "      <th>Claim.Current.Status</th>\n",
       "      <th>Network.ID</th>\n",
       "      <th>Agreement.ID</th>\n",
       "    </tr>\n",
       "  </thead>\n",
       "  <tbody>\n",
       "    <tr>\n",
       "      <th>0</th>\n",
       "      <td>FA0001387001</td>\n",
       "      <td>I</td>\n",
       "      <td>0</td>\n",
       "      <td>74</td>\n",
       "      <td>74</td>\n",
       "      <td>74</td>\n",
       "      <td>74</td>\n",
       "      <td>74</td>\n",
       "      <td>74</td>\n",
       "      <td>74</td>\n",
       "      <td>...</td>\n",
       "      <td>74</td>\n",
       "      <td>74</td>\n",
       "      <td>74</td>\n",
       "      <td>74</td>\n",
       "      <td>74</td>\n",
       "      <td>74</td>\n",
       "      <td>74</td>\n",
       "      <td>74</td>\n",
       "      <td>74</td>\n",
       "      <td>74</td>\n",
       "    </tr>\n",
       "    <tr>\n",
       "      <th>1</th>\n",
       "      <td>FA0001387001</td>\n",
       "      <td>I</td>\n",
       "      <td>1</td>\n",
       "      <td>67</td>\n",
       "      <td>67</td>\n",
       "      <td>67</td>\n",
       "      <td>67</td>\n",
       "      <td>67</td>\n",
       "      <td>67</td>\n",
       "      <td>67</td>\n",
       "      <td>...</td>\n",
       "      <td>67</td>\n",
       "      <td>67</td>\n",
       "      <td>67</td>\n",
       "      <td>67</td>\n",
       "      <td>67</td>\n",
       "      <td>67</td>\n",
       "      <td>67</td>\n",
       "      <td>67</td>\n",
       "      <td>67</td>\n",
       "      <td>67</td>\n",
       "    </tr>\n",
       "    <tr>\n",
       "      <th>2</th>\n",
       "      <td>FA0001387001</td>\n",
       "      <td>O</td>\n",
       "      <td>1</td>\n",
       "      <td>8643</td>\n",
       "      <td>0</td>\n",
       "      <td>8643</td>\n",
       "      <td>8643</td>\n",
       "      <td>8643</td>\n",
       "      <td>8643</td>\n",
       "      <td>8643</td>\n",
       "      <td>...</td>\n",
       "      <td>8643</td>\n",
       "      <td>8643</td>\n",
       "      <td>8643</td>\n",
       "      <td>8643</td>\n",
       "      <td>8643</td>\n",
       "      <td>8643</td>\n",
       "      <td>8643</td>\n",
       "      <td>8643</td>\n",
       "      <td>8643</td>\n",
       "      <td>8643</td>\n",
       "    </tr>\n",
       "    <tr>\n",
       "      <th>3</th>\n",
       "      <td>FA0001387002</td>\n",
       "      <td>I</td>\n",
       "      <td>0</td>\n",
       "      <td>1772</td>\n",
       "      <td>1772</td>\n",
       "      <td>1772</td>\n",
       "      <td>1772</td>\n",
       "      <td>1772</td>\n",
       "      <td>1772</td>\n",
       "      <td>1772</td>\n",
       "      <td>...</td>\n",
       "      <td>1772</td>\n",
       "      <td>1772</td>\n",
       "      <td>1772</td>\n",
       "      <td>1772</td>\n",
       "      <td>1772</td>\n",
       "      <td>1772</td>\n",
       "      <td>1772</td>\n",
       "      <td>1772</td>\n",
       "      <td>1772</td>\n",
       "      <td>1772</td>\n",
       "    </tr>\n",
       "    <tr>\n",
       "      <th>4</th>\n",
       "      <td>FA0001387002</td>\n",
       "      <td>I</td>\n",
       "      <td>1</td>\n",
       "      <td>8983</td>\n",
       "      <td>8983</td>\n",
       "      <td>8983</td>\n",
       "      <td>8983</td>\n",
       "      <td>8983</td>\n",
       "      <td>8983</td>\n",
       "      <td>8983</td>\n",
       "      <td>...</td>\n",
       "      <td>8983</td>\n",
       "      <td>8983</td>\n",
       "      <td>8983</td>\n",
       "      <td>8983</td>\n",
       "      <td>8983</td>\n",
       "      <td>8983</td>\n",
       "      <td>8983</td>\n",
       "      <td>8983</td>\n",
       "      <td>8983</td>\n",
       "      <td>8983</td>\n",
       "    </tr>\n",
       "  </tbody>\n",
       "</table>\n",
       "<p>5 rows × 30 columns</p>\n",
       "</div>"
      ],
      "text/plain": [
       "    Provider.ID In.Out.Of.Network  PaymentDeclined  Unnamed: 0  Claim.Number  \\\n",
       "0  FA0001387001                 I                0          74            74   \n",
       "1  FA0001387001                 I                1          67            67   \n",
       "2  FA0001387001                 O                1        8643             0   \n",
       "3  FA0001387002                 I                0        1772          1772   \n",
       "4  FA0001387002                 I                1        8983          8983   \n",
       "\n",
       "   Claim.Line.Number  Member.ID  Line.Of.Business.ID  Revenue.Code  \\\n",
       "0                 74         74                   74            74   \n",
       "1                 67         67                   67            67   \n",
       "2               8643       8643                 8643          8643   \n",
       "3               1772       1772                 1772          1772   \n",
       "4               8983       8983                 8983          8983   \n",
       "\n",
       "   Service.Code      ...       Provider.Payment.Amount  Group.Index  \\\n",
       "0            74      ...                            74           74   \n",
       "1            67      ...                            67           67   \n",
       "2          8643      ...                          8643         8643   \n",
       "3          1772      ...                          1772         1772   \n",
       "4          8983      ...                          8983         8983   \n",
       "\n",
       "   Subscriber.Index  Subgroup.Index  Claim.Type  Claim.Subscriber.Type  \\\n",
       "0                74              74          74                     74   \n",
       "1                67              67          67                     67   \n",
       "2              8643            8643        8643                   8643   \n",
       "3              1772            1772        1772                   1772   \n",
       "4              8983            8983        8983                   8983   \n",
       "\n",
       "   Claim.Pre.Prince.Index  Claim.Current.Status  Network.ID  Agreement.ID  \n",
       "0                      74                    74          74            74  \n",
       "1                      67                    67          67            67  \n",
       "2                    8643                  8643        8643          8643  \n",
       "3                    1772                  1772        1772          1772  \n",
       "4                    8983                  8983        8983          8983  \n",
       "\n",
       "[5 rows x 30 columns]"
      ]
     },
     "execution_count": 39,
     "metadata": {},
     "output_type": "execute_result"
    }
   ],
   "source": [
    "### We will now group the data set by ProviderID and In/Out Network indicator \n",
    "listProvidersTemp  = dfJCodes[dfJCodes['Provider.Payment.Amount'] > 0]['Provider.ID'].unique()\n",
    "dfProviderTemp = dfJCodes[dfJCodes['Provider.ID'].isin(listProvidersTemp)]\n",
    "\n",
    "## Set Empty columns of in out as out \n",
    "dfProviderTemp['In.Out.Of.Network'] = dfProviderTemp['In.Out.Of.Network'].apply(lambda x : setInOutFlag(x))\n",
    "\n",
    "dfProviderTemp_Network_Counts = dfProviderTemp.groupby([dfProviderTemp['Provider.ID'],\n",
    "                        dfProviderTemp['In.Out.Of.Network'],dfProviderTemp.PaymentDeclined]).count()\n",
    "\n",
    "dfProviderTemp_Network_Counts.to_csv('dfProviderTemp_Network_Counts.csv')\n",
    "dfProviderTemp_Network_Counts = pd.read_csv('dfProviderTemp_Network_Counts.csv')\n",
    "dfProviderTemp_Network_Counts.head()\n"
   ]
  },
  {
   "cell_type": "code",
   "execution_count": 52,
   "metadata": {
    "collapsed": false
   },
   "outputs": [],
   "source": [
    "\n",
    "## This function generates # Approved / Declined claims per Provider ID and In/Out Network ID\n",
    "def getCountsPerProviderStatus(strCode):\n",
    "    InNetworkStatus=[]\n",
    "    dfTemp = dfProviderTemp_Network_Counts[dfProviderTemp_Network_Counts['In.Out.Of.Network']==strCode]\n",
    "    for providerId in dfTemp['Provider.ID'].unique():\n",
    "\n",
    "        dictProvider = {}\n",
    "        numNonPaid = dfTemp[(dfTemp['Provider.ID']== providerId) & (dfTemp['PaymentDeclined']==1) ]['Claim.Line.Number']\n",
    "        numPaid = dfTemp[(dfTemp['Provider.ID']== providerId) & (dfTemp['PaymentDeclined']==0) ]['Claim.Line.Number']\n",
    "\n",
    "    \n",
    "        if len(numPaid)==0:\n",
    "            intPaid  = 0 \n",
    "        else :\n",
    "            intPaid = numPaid.unique()[0]\n",
    "        \n",
    "        if len(numNonPaid)==0:\n",
    "            intNotPaid  = 0 \n",
    "        else :\n",
    "            intNotPaid = numNonPaid.unique()[0]\n",
    "\n",
    "\n",
    "        dictProvider['NumPaid']  = intPaid\n",
    "\n",
    "        dictProvider['NumNonPaid'] = intNotPaid\n",
    "\n",
    "        dictProvider['ProviderID']  = providerId\n",
    "\n",
    "        InNetworkStatus.append(dictProvider)\n",
    "\n",
    "    return pd.DataFrame(InNetworkStatus)\n",
    "dfInNetWorkCounts = getCountsPerProviderStatus('I')\n",
    "dfOutNetWorkCounts = getCountsPerProviderStatus('O')"
   ]
  },
  {
   "cell_type": "code",
   "execution_count": 53,
   "metadata": {
    "collapsed": false
   },
   "outputs": [
    {
     "data": {
      "text/html": [
       "<div>\n",
       "<table border=\"1\" class=\"dataframe\">\n",
       "  <thead>\n",
       "    <tr style=\"text-align: right;\">\n",
       "      <th></th>\n",
       "      <th>NumNonPaid</th>\n",
       "      <th>NumPaid</th>\n",
       "      <th>ProviderID</th>\n",
       "    </tr>\n",
       "  </thead>\n",
       "  <tbody>\n",
       "    <tr>\n",
       "      <th>0</th>\n",
       "      <td>67</td>\n",
       "      <td>74</td>\n",
       "      <td>FA0001387001</td>\n",
       "    </tr>\n",
       "    <tr>\n",
       "      <th>1</th>\n",
       "      <td>8983</td>\n",
       "      <td>1772</td>\n",
       "      <td>FA0001387002</td>\n",
       "    </tr>\n",
       "    <tr>\n",
       "      <th>2</th>\n",
       "      <td>8111</td>\n",
       "      <td>880</td>\n",
       "      <td>FA0001389001</td>\n",
       "    </tr>\n",
       "  </tbody>\n",
       "</table>\n",
       "</div>"
      ],
      "text/plain": [
       "   NumNonPaid  NumPaid    ProviderID\n",
       "0          67       74  FA0001387001\n",
       "1        8983     1772  FA0001387002\n",
       "2        8111      880  FA0001389001"
      ]
     },
     "execution_count": 53,
     "metadata": {},
     "output_type": "execute_result"
    }
   ],
   "source": [
    "dfInNetWorkCounts.head(3)"
   ]
  },
  {
   "cell_type": "code",
   "execution_count": 44,
   "metadata": {
    "collapsed": false
   },
   "outputs": [
    {
     "data": {
      "text/html": [
       "<div>\n",
       "<table border=\"1\" class=\"dataframe\">\n",
       "  <thead>\n",
       "    <tr style=\"text-align: right;\">\n",
       "      <th></th>\n",
       "      <th>NumNonPaid</th>\n",
       "      <th>NumPaid</th>\n",
       "      <th>ProviderID</th>\n",
       "    </tr>\n",
       "  </thead>\n",
       "  <tbody>\n",
       "    <tr>\n",
       "      <th>0</th>\n",
       "      <td>8710</td>\n",
       "      <td>0</td>\n",
       "      <td>FA0001387001</td>\n",
       "    </tr>\n",
       "    <tr>\n",
       "      <th>1</th>\n",
       "      <td>8710</td>\n",
       "      <td>14</td>\n",
       "      <td>FA0001387002</td>\n",
       "    </tr>\n",
       "    <tr>\n",
       "      <th>2</th>\n",
       "      <td>8710</td>\n",
       "      <td>15</td>\n",
       "      <td>FA0001389001</td>\n",
       "    </tr>\n",
       "  </tbody>\n",
       "</table>\n",
       "</div>"
      ],
      "text/plain": [
       "   NumNonPaid  NumPaid    ProviderID\n",
       "0        8710        0  FA0001387001\n",
       "1        8710       14  FA0001387002\n",
       "2        8710       15  FA0001389001"
      ]
     },
     "execution_count": 44,
     "metadata": {},
     "output_type": "execute_result"
    }
   ],
   "source": [
    "dfOutNetWorkCounts.head(3)"
   ]
  },
  {
   "cell_type": "code",
   "execution_count": 45,
   "metadata": {
    "collapsed": false
   },
   "outputs": [],
   "source": [
    "colorScheme = [\"000000\",\"FF0000\",\"00FF00\",\"0000FF\",\"FFFF00\",\"00FFFF\",\"FF00FF\",\"999999\",\"999900\",\"009999\",\"990099\"]"
   ]
  },
  {
   "cell_type": "code",
   "execution_count": 54,
   "metadata": {
    "collapsed": false
   },
   "outputs": [
    {
     "data": {
      "image/png": "[encoded data removed]",
      "text/plain": [
       "<IPython.core.display.Image object>"
      ]
     },
     "execution_count": 54,
     "metadata": {},
     "output_type": "execute_result"
    }
   ],
   "source": [
    "### This piece of code generates a plot to evaluate approvals by Provider and In/Out network indicator\n",
    "dfProviderClaims = dfProviderClaims[dfProviderClaims.NumPaid > 0]\n",
    "data = []\n",
    "\n",
    "trace0 = go.Scatter(\n",
    "                y = (list(dfOutNetWorkCounts.NumNonPaid)),\n",
    "                x = (list(dfOutNetWorkCounts.NumPaid)),\n",
    "                mode = 'markers' ,\n",
    "                marker =dict(symbol=0, color = \"blue\"),\n",
    "                name ='Out of N/w claims' \n",
    "                )\n",
    "    \n",
    "trace1 = go.Scatter(\n",
    "                y = (list(dfInNetWorkCounts.NumNonPaid)),\n",
    "                x = (list(dfInNetWorkCounts.NumPaid)),\n",
    "                mode = 'markers' ,\n",
    "                marker = dict(symbol=103, color = \"red\") ,\n",
    "                name ='In network claims'\n",
    "                )\n",
    "    \n",
    "\n",
    "    \n",
    "data = [trace0 ,trace1]\n",
    "\n",
    "\n",
    "layout = dict(title = 'Claim approvals by In/Out of Network Providers', \n",
    "              xaxis=dict(title='Approved Claims') , yaxis = dict(title=\"Declined Claims\") )\n",
    "\n",
    "fig = dict(data=data, layout=layout)\n",
    "\n",
    "\n",
    "py.image.save_as(fig, filename='plots/paid per out of nw provider.png')\n",
    "\n",
    "Image('plots/paid per out of nw provider.png')\n"
   ]
  },
  {
   "cell_type": "markdown",
   "metadata": {},
   "source": [
    "##### Observation : From the graph we observe the following :\n",
    "    - The number of approved claims are just a fraction of the rejected claims\n",
    "    - Almost all of the claims submitted as Out of Network are rejected\n",
    "    - Most of the approved claims are approved for In Network providers. "
   ]
  },
  {
   "cell_type": "markdown",
   "metadata": {},
   "source": [
    "##### Question 3\n",
    "3. Consider all claim lines with a J-code.\n",
    "\n",
    "     A. What percentage of J-code claim lines were non-paid?\n",
    "     \n",
    "     B. Create a model to predict when a J-code has a zero payment. Explain why you choose the modeling approach.\n",
    "     \n",
    "     C. How accurrate is your model at predicting zero payment claims?\n",
    "     \n",
    "     D. What data attributes are predominately influencing the non-paid rate?"
   ]
  },
  {
   "cell_type": "code",
   "execution_count": 55,
   "metadata": {
    "collapsed": false
   },
   "outputs": [
    {
     "data": {
      "image/png": "[encoded data removed]",
      "text/plain": [
       "<IPython.core.display.Image object>"
      ]
     },
     "execution_count": 55,
     "metadata": {},
     "output_type": "execute_result"
    }
   ],
   "source": [
    "TotalPaid = dfJCodes.groupby(dfJCodes.PaymentDeclined).count()['Claim.Line.Number'][0]\n",
    "TotalDeclined = dfJCodes.groupby(dfJCodes.PaymentDeclined).count()['Claim.Line.Number'][1]\n",
    "\n",
    "labels = ['Claims Paid', 'Claims Declined']\n",
    "values = [TotalPaid,TotalDeclined]\n",
    "\n",
    "trace = go.Pie(labels=labels, values=values)\n",
    "\n",
    "data = [trace]\n",
    "layout = dict(title = 'Percentage of declined claims')\n",
    "fig = dict(data=data, layout=layout)\n",
    "\n",
    "# Plot and embed in ipython notebook!\n",
    "py.image.save_as(fig, filename='plots/pie-chart-decline counts.png')\n",
    "\n",
    "from IPython.display import Image\n",
    "Image('plots/pie-chart-decline counts.png')\n"
   ]
  },
  {
   "cell_type": "markdown",
   "metadata": {},
   "source": [
    "###### Around 88.1% of the J-Code claims were unpaid"
   ]
  },
  {
   "cell_type": "markdown",
   "metadata": {},
   "source": [
    "### Statistical Modeling to predict zero payment \n",
    "\n",
    "\n",
    "As a first step in prediction , we analyze the features and their prior probabilities w.r.t a declined claim."
   ]
  },
  {
   "cell_type": "markdown",
   "metadata": {},
   "source": [
    "<table style=\"width:100%\">\n",
    "  <tr>\n",
    "    <center> Analysis of prior probabilities across various features </center>\n",
    "  </tr>\n",
    "  <tr>\n",
    "        <td><img src=\"plots/pie-chart-decline counts.png\"  style=\"width:400px;height:300px;\"></td> \n",
    "        <td><img src=\"plots/pie-chart-decline counts CapitationIndex.png\" style=\"width:400px;height:300px;\" >\n",
    "        </td>\n",
    "\n",
    "        <td><img src=\"plots/pie-chart-decline counts ClaimPrePrinceIndex.png\"  style=\"width:400px;height:300px;\"></td>\n",
    "  </tr>\n",
    "\n",
    "  <tr>\n",
    "    <td><img src=\"plots/pie-chart-decline counts ClaimSubscriberType.png\" style=\"width:400px;height:300px;\" >\n",
    "    </td>\n",
    "    <td><img src=\"plots/pie-chart-decline counts ClaimType.png\"  style=\"width:400px;height:300px;\"></td> \n",
    "    <td><img src=\"plots/pie-chart-decline counts GroupIndex.png\"  style=\"width:400px;height:300px;\"></td>\n",
    "  </tr>\n",
    "\n",
    "  <tr>\n",
    "    <td><img src=\"plots/pie-chart-decline counts InOutOfNetwork.png\" style=\"width:400px;height:300px;\" >\n",
    "    </td>\n",
    "    <td><img src=\"plots/pie-chart-decline counts LineOfBusinessID.png\"  style=\"width:400px;height:300px;\"></td> \n",
    "    <td><img src=\"plots/pie-chart-decline counts PlaceOfServiceCode.png\"  style=\"width:400px;height:300px;\"></td>\n",
    "  </tr>\n",
    "\n",
    "\n",
    "  <tr>\n",
    "    <td><img src=\"plots/pie-chart-decline counts PriceIndex.png\" style=\"width:400px;height:300px;\" >\n",
    "    </td>\n",
    "    <td><img src=\"plots/pie-chart-decline counts PricingIndex.png\"  style=\"width:400px;height:300px;\"></td> \n",
    "    <td><img src=\"plots/pie-chart-decline counts ProcedureCode.png\"  style=\"width:400px;height:300px;\"></td>\n",
    "  </tr>\n",
    "  \n",
    "  <tr>\n",
    "    <td><img src=\"plots/pie-chart-decline counts ProviderID.png\" style=\"width:400px;height:300px;\" >\n",
    "    </td>\n",
    "    <td><img src=\"plots/pie-chart-decline counts ReferenceIndex.png\"  style=\"width:400px;height:300px;\"></td> \n",
    "    <td><img src=\"plots/pie-chart-decline counts RevenueCode.png\"  style=\"width:400px;height:300px;\"></td>\n",
    "  </tr>\n",
    "  \n",
    "    <tr>\n",
    "    <td><img src=\"plots/pie-chart-decline counts ServiceCode.png\" style=\"width:400px;height:300px;\" >\n",
    "    </td>\n",
    "    <td><img src=\"plots/pie-chart-decline counts SubgroupIndex.png\"  style=\"width:400px;height:300px;\"></td> \n",
    "    <td><img src=\"plots/pie-chart-decline counts.png\"  style=\"width:400px;height:300px;\"></td>\n",
    "  </tr>\n",
    "  \n",
    "\n",
    "  \n",
    "</table>"
   ]
  },
  {
   "cell_type": "markdown",
   "metadata": {},
   "source": [
    "Based on the above plots of the prior probabilities, we see features such as Capitation.Index, Claim.Pre.Prince.Index, Group.Index , In.Out.Network\n",
    "Procedure.Code and Provider ID as potential factors influencing the claim . \n",
    "Based on the above plots and our general understanding of the data set and the domain , we will use the following features to build predition models\n",
    "\n",
    "<b>Independent Variables : </b>\n",
    "\n",
    "['Provider.ID','Line.Of.Business.ID' ,'Revenue.Code' ,'Service.Code' ,'Place.Of.Service.Code' ,'Procedure.Code','Diagnosis.Code' , 'Price.Index' ,'In.Out.Of.Network' ,'Reference.Index' ,'Pricing.Index' ,'Capitation.Index' ,'Group.Index' , 'Subscriber.Index' ,'Subgroup.Index' ,'Claim.Type' ,'Claim.Subscriber.Type' ,'Claim.Pre.Prince.Index' ]\n",
    "\n",
    "<b>Target Variable : </b>\n",
    "\n",
    "We will use our derived feature 'PaymentDeclined' as the target variable . We have eliminated the quantitative variables such as Provider Claim Amount , Subcriber Payment Amount in lieu of the feature 'PaymentDeclined' for this analysis "
   ]
  },
  {
   "cell_type": "code",
   "execution_count": 348,
   "metadata": {
    "collapsed": false
   },
   "outputs": [],
   "source": [
    "listFeatures = ['Provider.ID','Line.Of.Business.ID' ,'Revenue.Code' ,'Service.Code' ,'Place.Of.Service.Code' ,'Procedure.Code','Diagnosis.Code' , \n",
    " 'Price.Index' ,'In.Out.Of.Network' ,'Reference.Index' ,'Pricing.Index' ,'Capitation.Index' ,'Group.Index' , \n",
    " 'Subscriber.Index' ,'Subgroup.Index' ,'Claim.Type' ,'Claim.Subscriber.Type' ,'Claim.Pre.Prince.Index' ,'PaymentDeclined']\n"
   ]
  },
  {
   "cell_type": "markdown",
   "metadata": {},
   "source": [
    "## Modeling Techniques\n",
    "The problem of predicting ZERO payments is a classification problem. We will hence run Classification techniques (specifically Logistical Regression) for the predictions.\n",
    "\n",
    "Choice of algorithms \n",
    "Write about Random Forest \n",
    "Naive Bayes \n",
    "Nueral Network"
   ]
  },
  {
   "cell_type": "code",
   "execution_count": 349,
   "metadata": {
    "collapsed": true
   },
   "outputs": [],
   "source": [
    "XData = dfJCodes[listFeatures]"
   ]
  },
  {
   "cell_type": "markdown",
   "metadata": {},
   "source": [
    "#### One Hot Encoding  \n",
    "Considering all the features are categorical , we will hot encode the features to get meaningful features. "
   ]
  },
  {
   "cell_type": "code",
   "execution_count": 350,
   "metadata": {
    "collapsed": false
   },
   "outputs": [
    {
     "name": "stdout",
     "output_type": "stream",
     "text": [
      "Number of Unique Values for Feature Provider.ID  : 15 \n",
      "Number of Unique Values for Feature Line.Of.Business.ID  : 6 \n",
      "Number of Unique Values for Feature Revenue.Code  : 18 \n",
      "Number of Unique Values for Feature Service.Code  : 12 \n",
      "Number of Unique Values for Feature Place.Of.Service.Code  : 2 \n",
      "Number of Unique Values for Feature Procedure.Code  : 202 \n",
      "Number of Unique Values for Feature Diagnosis.Code  : 1438 \n",
      "Number of Unique Values for Feature Price.Index  : 3 \n",
      "Number of Unique Values for Feature In.Out.Of.Network  : 2 \n",
      "Number of Unique Values for Feature Reference.Index  : 4 \n",
      "Number of Unique Values for Feature Pricing.Index  : 4 \n",
      "Number of Unique Values for Feature Capitation.Index  : 3 \n",
      "Number of Unique Values for Feature Group.Index  : 781 \n",
      "Number of Unique Values for Feature Subscriber.Index  : 6243 \n",
      "Number of Unique Values for Feature Subgroup.Index  : 790 \n",
      "Number of Unique Values for Feature Claim.Type  : 2 \n",
      "Number of Unique Values for Feature Claim.Subscriber.Type  : 2 \n",
      "Number of Unique Values for Feature Claim.Pre.Prince.Index  : 3 \n",
      "Number of Unique Values for Feature PaymentDeclined  : 2 \n"
     ]
    }
   ],
   "source": [
    "for colName in listFeatures :\n",
    "    print \"Number of Unique Values for Feature %s  : %d \" %( colName , len(XData[colName].unique()))"
   ]
  },
  {
   "cell_type": "markdown",
   "metadata": {},
   "source": [
    "###### After evaluating the unique features above , we will eliminate the features Group.Index , Subscriber.Index and Subgroup.Index for the initial modeling"
   ]
  },
  {
   "cell_type": "code",
   "execution_count": 351,
   "metadata": {
    "collapsed": false
   },
   "outputs": [
    {
     "name": "stdout",
     "output_type": "stream",
     "text": [
      "List of features to be encoded : \n",
      "['Provider.ID', 'Line.Of.Business.ID', 'Revenue.Code', 'Service.Code', 'Place.Of.Service.Code', 'Procedure.Code', 'Diagnosis.Code', 'Price.Index', 'In.Out.Of.Network', 'Reference.Index', 'Pricing.Index', 'Capitation.Index', 'Claim.Type', 'Claim.Subscriber.Type', 'Claim.Pre.Prince.Index', 'PaymentDeclined']\n"
     ]
    }
   ],
   "source": [
    "if 'Group.Index' in listFeatures:\n",
    "    listFeatures.remove('Group.Index')\n",
    "if 'Subscriber.Index' in listFeatures :\n",
    "    listFeatures.remove('Subscriber.Index')\n",
    "if 'Subgroup.Index' in listFeatures :\n",
    "    listFeatures.remove('Subgroup.Index')\n",
    "print \"List of features to be encoded : \\n%s\" % listFeatures"
   ]
  },
  {
   "cell_type": "code",
   "execution_count": null,
   "metadata": {
    "collapsed": false
   },
   "outputs": [],
   "source": []
  },
  {
   "cell_type": "code",
   "execution_count": 352,
   "metadata": {
    "collapsed": false
   },
   "outputs": [
    {
     "name": "stdout",
     "output_type": "stream",
     "text": [
      "Shape of DataFrame after Hot Encoding : (51029, 1717) \n"
     ]
    }
   ],
   "source": [
    "## Generate One Hot encoded dataframe\n",
    "XData = XData[listFeatures]\n",
    "\n",
    "## Remove PaymentDeclined from being Hot Encoded\n",
    "if 'PaymentDeclined' in listFeatures :\n",
    "    listFeatures.remove('PaymentDeclined')\n",
    "    \n",
    "# Generate hot encoding on categorical features\n",
    "XData = pd.get_dummies(XData,columns=listFeatures)\n",
    "\n",
    "print \"Shape of DataFrame after Hot Encoding : %s \" % str(XData.shape)"
   ]
  },
  {
   "cell_type": "code",
   "execution_count": null,
   "metadata": {
    "collapsed": false
   },
   "outputs": [],
   "source": []
  },
  {
   "cell_type": "code",
   "execution_count": 353,
   "metadata": {
    "collapsed": false
   },
   "outputs": [],
   "source": [
    "### Shuffle data set and generate train and test set \n",
    "from sklearn.utils import shuffle\n",
    "XData = shuffle(XData)\n",
    "\n",
    "YData = XData.PaymentDeclined\n",
    "if 'PaymentDeclined' in XData.columns:\n",
    "    del XData['PaymentDeclined']\n",
    "    \n",
    "## Generate Cross Validation Data\n",
    "\n",
    "from sklearn.cross_validation import train_test_split\n",
    "\n",
    "xTrain , xTest , yTrain , yTest = train_test_split(XData,YData)"
   ]
  },
  {
   "cell_type": "code",
   "execution_count": 355,
   "metadata": {
    "collapsed": false
   },
   "outputs": [
    {
     "name": "stdout",
     "output_type": "stream",
     "text": [
      "(38271, 1716)\n",
      "(12758, 1716)\n",
      "(38271,)\n",
      "(12758,)\n"
     ]
    }
   ],
   "source": [
    "print xTrain.shape\n",
    "print xTest.shape\n",
    "print yTrain.shape\n",
    "print yTest.shape"
   ]
  },
  {
   "cell_type": "code",
   "execution_count": 185,
   "metadata": {
    "collapsed": false
   },
   "outputs": [],
   "source": [
    "from sklearn.metrics import accuracy_score ,confusion_matrix ,roc_auc_score"
   ]
  },
  {
   "cell_type": "markdown",
   "metadata": {},
   "source": [
    "#### Generate baseline models using   GaussianNB , BernoulliNB and RandomForestClassifier "
   ]
  },
  {
   "cell_type": "code",
   "execution_count": 139,
   "metadata": {
    "collapsed": false
   },
   "outputs": [
    {
     "name": "stdout",
     "output_type": "stream",
     "text": [
      "Evaluating GaussianNB for 5 iterations\n",
      "GaussianNB : Avg AUC on validation set  : 0.6281\n",
      "Evaluating BernoulliNB for 5 iterations\n",
      "BernoulliNB : Avg AUC on validation set  : 0.6534\n",
      "Evaluating RandomForestClassifier for 5 iterations\n",
      "RandomForestClassifier : Avg AUC on validation set  : 0.8757\n"
     ]
    }
   ],
   "source": [
    "import importlib\n",
    "dictResults = {}\n",
    "\n",
    "def evaluateAndPrintResults(strModule,strClass) :\n",
    "    \n",
    "    print \"Evaluating \"+strClass+\" for 5 iterations\"\n",
    "    rocScore = 0\n",
    "    for i in range(0,5):\n",
    "        xTrain , xTest , yTrain , yTest = train_test_split(XData,YData)\n",
    "        genericClass = getattr(importlib.import_module(strModule), strClass)\n",
    "        model = genericClass()\n",
    "        model.fit(xTrain,yTrain)\n",
    "\n",
    "        yPred = model.predict(xTest)\n",
    "        tempScore = roc_auc_score(yPred,yTest)\n",
    "        rocScore +=tempScore\n",
    "        dictResults[strClass].append(tempScore)\n",
    "\n",
    "\n",
    "    print \"%s : Avg AUC on validation set  : %.4f\" % ( strClass , rocScore/5)\n",
    "\n",
    "dictResults['GaussianNB'] =[]\n",
    "dictResults['BernoulliNB'] =[]\n",
    "dictResults['RandomForestClassifier'] =[]\n",
    "\n",
    "evaluateAndPrintResults( \"sklearn.naive_bayes\",'GaussianNB')\n",
    "evaluateAndPrintResults( \"sklearn.naive_bayes\",'BernoulliNB')\n",
    "evaluateAndPrintResults( \"sklearn.ensemble\",'RandomForestClassifier')"
   ]
  },
  {
   "cell_type": "code",
   "execution_count": 65,
   "metadata": {
    "collapsed": false
   },
   "outputs": [
    {
     "data": {
      "image/png": "[encoded data removed]",
      "text/plain": [
       "<IPython.core.display.Image object>"
      ]
     },
     "execution_count": 65,
     "metadata": {},
     "output_type": "execute_result"
    }
   ],
   "source": [
    "data = []\n",
    "\n",
    "trace0 = go.Scatter(\n",
    "                y = dictResults[\"GaussianNB\"],\n",
    "                x = range(0,5),\n",
    "                mode = 'lines+markers' ,\n",
    "                name ='GaussianNB'\n",
    "                )\n",
    "trace1 = go.Scatter(\n",
    "                y = dictResults[\"BernoulliNB\"],\n",
    "                x = range(0,5),\n",
    "                mode = 'lines+markers' ,\n",
    "                name ='BernoulliNB'\n",
    "                )\n",
    "trace2 = go.Scatter(\n",
    "                y = dictResults[\"RandomForestClassifier\"],\n",
    "                x = range(0,5),\n",
    "                mode = 'lines+markers' ,\n",
    "                name ='RandomForestClassifier'\n",
    "                )\n",
    "    \n",
    "\n",
    "    \n",
    "data = [trace0,trace1,trace2]\n",
    "\n",
    "\n",
    "layout = dict(title = 'Comparison of AUC across 5 iterations',xaxis = dict(title=\"# Iterations\"),yaxis = dict(title=\"Area Under Curve\"))\n",
    "\n",
    "fig = dict(data=data, layout=layout)\n",
    "\n",
    "# Plot and embed in ipython notebook!\n",
    "py.image.save_as(fig, filename='plots/roc-comparison-scatter - 3 models.png')\n",
    "\n",
    "Image('plots/roc-comparison-scatter - 3 models.png')"
   ]
  },
  {
   "cell_type": "markdown",
   "metadata": {},
   "source": [
    "###### Observation : We see that the RandomForest method consistently yields the best perforamce across the 3 evaluated  models\n",
    "\n",
    "\n",
    "### Hyperparameter Tuning and Grid Search on RandomForestClassifier"
   ]
  },
  {
   "cell_type": "code",
   "execution_count": 186,
   "metadata": {
    "collapsed": true
   },
   "outputs": [],
   "source": [
    "dfConsilidateResults = pd.DataFrame()\n",
    "xTrain , xTest , yTrain , yTest = train_test_split(XData,YData)"
   ]
  },
  {
   "cell_type": "code",
   "execution_count": 72,
   "metadata": {
    "collapsed": false
   },
   "outputs": [
    {
     "name": "stderr",
     "output_type": "stream",
     "text": [
      "/Users/raghuramsrinivas/anaconda/lib/python2.7/site-packages/sklearn/grid_search.py:43: DeprecationWarning:\n",
      "\n",
      "This module was deprecated in version 0.18 in favor of the model_selection module into which all the refactored classes and functions are moved. This module will be removed in 0.20.\n",
      "\n"
     ]
    }
   ],
   "source": [
    "from sklearn.ensemble import RandomForestClassifier\n",
    "from sklearn.grid_search import GridSearchCV\n"
   ]
  },
  {
   "cell_type": "code",
   "execution_count": 187,
   "metadata": {
    "collapsed": false
   },
   "outputs": [
    {
     "name": "stdout",
     "output_type": "stream",
     "text": [
      "0.880325432428\n"
     ]
    }
   ],
   "source": [
    "rndModel = RandomForestClassifier()\n",
    "rndModel.fit(xTrain,yTrain)\n",
    "yPred = rndModel.predict(xTest)\n",
    "print roc_auc_score(yPred,yTest)"
   ]
  },
  {
   "cell_type": "code",
   "execution_count": null,
   "metadata": {
    "collapsed": false
   },
   "outputs": [],
   "source": []
  },
  {
   "cell_type": "code",
   "execution_count": 189,
   "metadata": {
    "collapsed": false
   },
   "outputs": [],
   "source": [
    "## Save Results \n",
    "dfConsilidateResults['yTest_RndFrst_Baseline'] = yTest\n",
    "dfConsilidateResults['yPred_RndFrst_Baseline'] = yPred\n",
    "\n",
    "dfConsilidateResults['yPredProb_RndFrst_Baseline'] = (rndModel.predict_proba(xTest)[:,1])\n"
   ]
  },
  {
   "cell_type": "code",
   "execution_count": null,
   "metadata": {
    "collapsed": false
   },
   "outputs": [],
   "source": []
  },
  {
   "cell_type": "markdown",
   "metadata": {},
   "source": [
    "###### Search for the best model by evaluating various hyperparameters using GridSearch on RandomForestClassifier"
   ]
  },
  {
   "cell_type": "code",
   "execution_count": 73,
   "metadata": {
    "collapsed": false
   },
   "outputs": [
    {
     "name": "stdout",
     "output_type": "stream",
     "text": [
      "Fitting 3 folds for each of 6 candidates, totalling 18 fits\n",
      "[CV] n_estimators=10, criterion=entropy ..............................\n",
      "[CV] ..... n_estimators=10, criterion=entropy, score=0.946561 -   3.0s\n",
      "[CV] n_estimators=10, criterion=entropy ..............................\n"
     ]
    },
    {
     "name": "stderr",
     "output_type": "stream",
     "text": [
      "[Parallel(n_jobs=1)]: Done   1 out of   1 | elapsed:    3.0s remaining:    0.0s\n"
     ]
    },
    {
     "name": "stdout",
     "output_type": "stream",
     "text": [
      "[CV] ..... n_estimators=10, criterion=entropy, score=0.945326 -   2.9s\n",
      "[CV] n_estimators=10, criterion=entropy ..............................\n"
     ]
    },
    {
     "name": "stderr",
     "output_type": "stream",
     "text": [
      "[Parallel(n_jobs=1)]: Done   2 out of   2 | elapsed:    5.9s remaining:    0.0s\n"
     ]
    },
    {
     "name": "stdout",
     "output_type": "stream",
     "text": [
      "[CV] ..... n_estimators=10, criterion=entropy, score=0.944441 -   2.9s\n",
      "[CV] n_estimators=20, criterion=entropy ..............................\n",
      "[CV] ..... n_estimators=20, criterion=entropy, score=0.947384 -   5.5s\n",
      "[CV] n_estimators=20, criterion=entropy ..............................\n",
      "[CV] ..... n_estimators=20, criterion=entropy, score=0.946208 -   5.3s\n",
      "[CV] n_estimators=20, criterion=entropy ..............................\n",
      "[CV] ..... n_estimators=20, criterion=entropy, score=0.947146 -   5.4s\n",
      "[CV] n_estimators=30, criterion=entropy ..............................\n",
      "[CV] ..... n_estimators=30, criterion=entropy, score=0.948677 -   7.8s\n",
      "[CV] n_estimators=30, criterion=entropy ..............................\n",
      "[CV] ..... n_estimators=30, criterion=entropy, score=0.946678 -   7.7s\n",
      "[CV] n_estimators=30, criterion=entropy ..............................\n",
      "[CV] ..... n_estimators=30, criterion=entropy, score=0.946852 -   8.0s\n",
      "[CV] n_estimators=10, criterion=gini .................................\n",
      "[CV] ........ n_estimators=10, criterion=gini, score=0.947560 -   2.9s\n",
      "[CV] n_estimators=10, criterion=gini .................................\n",
      "[CV] ........ n_estimators=10, criterion=gini, score=0.943857 -   3.0s\n",
      "[CV] n_estimators=10, criterion=gini .................................\n",
      "[CV] ........ n_estimators=10, criterion=gini, score=0.945088 -   3.0s\n",
      "[CV] n_estimators=20, criterion=gini .................................\n",
      "[CV] ........ n_estimators=20, criterion=gini, score=0.949030 -   5.9s\n",
      "[CV] n_estimators=20, criterion=gini .................................\n",
      "[CV] ........ n_estimators=20, criterion=gini, score=0.946032 -   5.4s\n",
      "[CV] n_estimators=20, criterion=gini .................................\n",
      "[CV] ........ n_estimators=20, criterion=gini, score=0.947028 -   5.4s\n",
      "[CV] n_estimators=30, criterion=gini .................................\n",
      "[CV] ........ n_estimators=30, criterion=gini, score=0.948383 -   8.1s\n",
      "[CV] n_estimators=30, criterion=gini .................................\n",
      "[CV] ........ n_estimators=30, criterion=gini, score=0.947560 -   7.9s\n",
      "[CV] n_estimators=30, criterion=gini .................................\n",
      "[CV] ........ n_estimators=30, criterion=gini, score=0.947322 -   7.9s\n"
     ]
    },
    {
     "name": "stderr",
     "output_type": "stream",
     "text": [
      "[Parallel(n_jobs=1)]: Done  18 out of  18 | elapsed:  1.6min finished\n"
     ]
    },
    {
     "data": {
      "text/plain": [
       "GridSearchCV(cv=3, error_score='raise',\n",
       "       estimator=RandomForestClassifier(bootstrap=True, class_weight=None, criterion='gini',\n",
       "            max_depth=None, max_features='auto', max_leaf_nodes=None,\n",
       "            min_impurity_split=1e-07, min_samples_leaf=1,\n",
       "            min_samples_split=2, min_weight_fraction_leaf=0.0,\n",
       "            n_estimators=10, n_jobs=1, oob_score=False, random_state=None,\n",
       "            verbose=0, warm_start=False),\n",
       "       fit_params={}, iid=True, n_jobs=1,\n",
       "       param_grid={'n_estimators': [10, 20, 30], 'criterion': ['entropy', 'gini']},\n",
       "       pre_dispatch='2*n_jobs', refit=True, scoring=None, verbose=3)"
      ]
     },
     "execution_count": 73,
     "metadata": {},
     "output_type": "execute_result"
    }
   ],
   "source": [
    "parameters = {'criterion':['entropy', 'gini'],'n_estimators' : [10,20,30]}\n",
    "\n",
    "rndGrid = GridSearchCV(rndModel, parameters , cv=3 ,verbose=3)\n",
    "rndGrid.fit(XData,YData)"
   ]
  },
  {
   "cell_type": "code",
   "execution_count": 74,
   "metadata": {
    "collapsed": false
   },
   "outputs": [
    {
     "data": {
      "text/plain": [
       "{'criterion': 'gini', 'n_estimators': 30}"
      ]
     },
     "execution_count": 74,
     "metadata": {},
     "output_type": "execute_result"
    }
   ],
   "source": [
    "rndGrid.best_params_"
   ]
  },
  {
   "cell_type": "code",
   "execution_count": null,
   "metadata": {
    "collapsed": false
   },
   "outputs": [],
   "source": []
  },
  {
   "cell_type": "code",
   "execution_count": null,
   "metadata": {
    "collapsed": false
   },
   "outputs": [],
   "source": []
  },
  {
   "cell_type": "code",
   "execution_count": null,
   "metadata": {
    "collapsed": true
   },
   "outputs": [],
   "source": []
  },
  {
   "cell_type": "code",
   "execution_count": 191,
   "metadata": {
    "collapsed": false
   },
   "outputs": [
    {
     "name": "stdout",
     "output_type": "stream",
     "text": [
      "0.889241317894\n"
     ]
    }
   ],
   "source": [
    "rndModel_BestEst = RandomForestClassifier(criterion='gini',n_estimators=30)\n",
    "rndModel_BestEst.fit(xTrain,yTrain)\n",
    "yPred = rndModel_BestEst.predict(xTest)\n",
    "print roc_auc_score(yPred,yTest)"
   ]
  },
  {
   "cell_type": "code",
   "execution_count": 192,
   "metadata": {
    "collapsed": true
   },
   "outputs": [],
   "source": [
    "dfConsilidateResults[\"yTest_RndFrst_GrdSrch\"] =yTest\n",
    "dfConsilidateResults[\"yPred_RndFrst_GrdSrch\"] =yPred\n",
    "dfConsilidateResults['yPredProb_RndFrst_GrdSrch'] = (rndModel_BestEst.predict_proba(xTest)[:,1])\n"
   ]
  },
  {
   "cell_type": "markdown",
   "metadata": {},
   "source": [
    "#### The Grid Search yielded the following parameters for the best performance\n",
    "\n",
    "{'criterion': 'gini', 'n_estimators': 30}"
   ]
  },
  {
   "cell_type": "code",
   "execution_count": null,
   "metadata": {
    "collapsed": false
   },
   "outputs": [],
   "source": []
  },
  {
   "cell_type": "code",
   "execution_count": 82,
   "metadata": {
    "collapsed": false
   },
   "outputs": [],
   "source": [
    "from sklearn.metrics import confusion_matrix ,precision_score ,recall_score"
   ]
  },
  {
   "cell_type": "code",
   "execution_count": null,
   "metadata": {
    "collapsed": true
   },
   "outputs": [],
   "source": []
  },
  {
   "cell_type": "markdown",
   "metadata": {},
   "source": [
    "### Downsampling for handling Imbalanced classes\n",
    "\n",
    "The data set is skewed interms of the # classes with PaymentDeclined =1 as opposed to PaymentDeclined = 0 . We will downsample the dataset and re-run RandomForestClassifier to check if the algorithm is not overfit. "
   ]
  },
  {
   "cell_type": "code",
   "execution_count": 229,
   "metadata": {
    "collapsed": false
   },
   "outputs": [],
   "source": [
    "XData = XData.join(YData)"
   ]
  },
  {
   "cell_type": "code",
   "execution_count": 230,
   "metadata": {
    "collapsed": false
   },
   "outputs": [
    {
     "name": "stdout",
     "output_type": "stream",
     "text": [
      "(44961, 1717)\n"
     ]
    }
   ],
   "source": [
    "XData_DeclinedClaims = XData[XData[\"PaymentDeclined\"]==1]\n",
    "print XData_DeclinedClaims.shape"
   ]
  },
  {
   "cell_type": "code",
   "execution_count": 231,
   "metadata": {
    "collapsed": false
   },
   "outputs": [
    {
     "name": "stdout",
     "output_type": "stream",
     "text": [
      "(6068, 1717)\n"
     ]
    }
   ],
   "source": [
    "XData_ApprovedClaims = XData[XData[\"PaymentDeclined\"]==0]\n",
    "print XData_ApprovedClaims.shape"
   ]
  },
  {
   "cell_type": "code",
   "execution_count": 232,
   "metadata": {
    "collapsed": false
   },
   "outputs": [
    {
     "name": "stdout",
     "output_type": "stream",
     "text": [
      "Accuracy score on Random Forest with downsampling downsampling 0.9179\n"
     ]
    }
   ],
   "source": [
    "### We will downsample Declined claims to contain about 7k rows and fit a model to evaluate accuracy\n",
    "XData_DeclinedClaims = XData_DeclinedClaims.sample(n=7000)\n",
    "XData = XData_ApprovedClaims.append(XData_DeclinedClaims)\n",
    "\n",
    "YData = XData.PaymentDeclined\n",
    "if 'PaymentDeclined' in XData.columns :\n",
    "    del XData['PaymentDeclined']\n",
    "\n",
    "xTrain,xTest,yTrain,yTest = train_test_split(XData,YData)\n",
    "rndModel_BestEst.fit(xTrain,yTrain)\n",
    "yPred = rndModel_BestEst.predict(xTest)\n",
    "\n",
    "print \"Accuracy score on Random Forest with downsampling downsampling %.4f\" % roc_auc_score(yPred,yTest)"
   ]
  },
  {
   "cell_type": "code",
   "execution_count": null,
   "metadata": {
    "collapsed": true
   },
   "outputs": [],
   "source": [
    "dfJCodes.to_csv(\"data/JCodes.csv\")"
   ]
  },
  {
   "cell_type": "code",
   "execution_count": 236,
   "metadata": {
    "collapsed": false
   },
   "outputs": [],
   "source": [
    "yPred_downsample = yPred\n",
    "yTest_downsample = yTest.as_matrix()\n",
    "yPredProb_downsample= rndModel_BestEst.predict_proba(xTest)[:,1]\n"
   ]
  },
  {
   "cell_type": "code",
   "execution_count": 234,
   "metadata": {
    "collapsed": false
   },
   "outputs": [
    {
     "data": {
      "text/plain": [
       "array([1, 0, 1, ..., 0, 0, 0])"
      ]
     },
     "execution_count": 234,
     "metadata": {},
     "output_type": "execute_result"
    }
   ],
   "source": []
  },
  {
   "cell_type": "code",
   "execution_count": null,
   "metadata": {
    "collapsed": true
   },
   "outputs": [],
   "source": [
    "### Text Embedding "
   ]
  },
  {
   "cell_type": "code",
   "execution_count": 91,
   "metadata": {
    "collapsed": true
   },
   "outputs": [],
   "source": [
    "from sklearn.feature_extraction.text import TfidfVectorizer, CountVectorizer"
   ]
  },
  {
   "cell_type": "code",
   "execution_count": 92,
   "metadata": {
    "collapsed": true
   },
   "outputs": [],
   "source": [
    "dfTextSource = pd.read_csv(\"data/Data_StringEmbedding.csv\")"
   ]
  },
  {
   "cell_type": "code",
   "execution_count": 200,
   "metadata": {
    "collapsed": false
   },
   "outputs": [
    {
     "data": {
      "text/plain": [
       "0.85661278424421861"
      ]
     },
     "execution_count": 200,
     "metadata": {},
     "output_type": "execute_result"
    }
   ],
   "source": [
    "XData = dfTextSource.StringRepresentation\n",
    "YData = dfTextSource.PaymentDeclined\n",
    "\n",
    "\n",
    "cnt_vectorizer =TfidfVectorizer()\n",
    "\n",
    "xTrain_Embedding , xTest_Embedding ,yTrain ,yTest = train_test_split(xData_Embedding.toarray(),YData)\n",
    "\n",
    "\n",
    "\n",
    "rndFrst_TextEmbed = RandomForestClassifier(criterion='gini',n_estimators=30)\n",
    "rndFrst_TextEmbed.fit(xTrain_Embedding,yTrain)\n",
    "\n",
    "#xTest_Embedding = cnt_vectorizer.transform(xTest_Text)\n",
    "yPred = rndFrst_TextEmbed.predict(xTest_Embedding)\n",
    "roc_auc_score(yPred,yTest)"
   ]
  },
  {
   "cell_type": "code",
   "execution_count": 211,
   "metadata": {
    "collapsed": false
   },
   "outputs": [],
   "source": [
    "yTest_EmbeddingVector_Tfidf = yTest\n",
    "dfConsilidateResults[\"yPred_EmbeddingVector_Tfidf\"] = yPred\n",
    "dfConsilidateResults['yPredProb_EmbeddingVector_Tfidf'] = (rndFrst_TextEmbed.predict_proba(xTest_Embedding)[:,1])\n"
   ]
  },
  {
   "cell_type": "code",
   "execution_count": null,
   "metadata": {
    "collapsed": false
   },
   "outputs": [],
   "source": []
  },
  {
   "cell_type": "code",
   "execution_count": null,
   "metadata": {
    "collapsed": false
   },
   "outputs": [],
   "source": []
  },
  {
   "cell_type": "code",
   "execution_count": null,
   "metadata": {
    "collapsed": false
   },
   "outputs": [],
   "source": []
  },
  {
   "cell_type": "code",
   "execution_count": null,
   "metadata": {
    "collapsed": true
   },
   "outputs": [],
   "source": []
  },
  {
   "cell_type": "code",
   "execution_count": 120,
   "metadata": {
    "collapsed": true
   },
   "outputs": [],
   "source": [
    "from sklearn.metrics import roc_curve"
   ]
  },
  {
   "cell_type": "code",
   "execution_count": null,
   "metadata": {
    "collapsed": false
   },
   "outputs": [],
   "source": []
  },
  {
   "cell_type": "code",
   "execution_count": 250,
   "metadata": {
    "collapsed": false
   },
   "outputs": [
    {
     "data": {
      "text/html": [
       "<iframe id=\"igraph\" scrolling=\"no\" style=\"border:none;\" seamless=\"seamless\" src=\"https://plot.ly/~rsrinivas/134.embed\" height=\"525px\" width=\"100%\"></iframe>"
      ],
      "text/plain": [
       "<plotly.tools.PlotlyDisplay object>"
      ]
     },
     "execution_count": 250,
     "metadata": {},
     "output_type": "execute_result"
    }
   ],
   "source": [
    "lw = 2\n",
    "\n",
    "fpr, tpr, thresholds = roc_curve(dfConsilidateResults.yTest_RndFrst_Baseline.as_matrix(), \n",
    "                                 dfConsilidateResults.yPredProb_RndFrst_Baseline.as_matrix(),pos_label=1)\n",
    "\n",
    "roc_score = roc_auc_score(dfConsilidateResults.yTest_RndFrst_Baseline, \n",
    "                          dfConsilidateResults.yPred_RndFrst_Baseline)\n",
    "\n",
    "trace1 = go.Scatter(x=fpr, y=tpr, \n",
    "                    mode='lines', \n",
    "                    line=dict(color='black', width=lw),\n",
    "                    name='RndFrst Baseline<br>(ROC = %0.2f)' % roc_score\n",
    "                   )\n",
    "\n",
    "trace0 = go.Scatter(x=[0, 1], y=[0, 1], \n",
    "                    mode='lines', \n",
    "                    line=dict(color='navy', width=lw, dash='dash'),\n",
    "                    showlegend=False)\n",
    "\n",
    "\n",
    "fpr, tpr, thresholds = roc_curve(dfConsilidateResults.yTest_RndFrst_GrdSrch.as_matrix(), \n",
    "                                 dfConsilidateResults.yPredProb_RndFrst_GrdSrch.as_matrix(),pos_label=1)\n",
    "\n",
    "roc_score = roc_auc_score(dfConsilidateResults.yTest_RndFrst_GrdSrch, \n",
    "                          dfConsilidateResults.yPred_RndFrst_GrdSrch)\n",
    "\n",
    "trace2 = go.Scatter(x=fpr, y=tpr, \n",
    "                    mode='lines', \n",
    "                    line=dict(color='darkorange', width=lw),\n",
    "                    name='RndFrst (30,gini)<br>(ROC = %0.2f)' % roc_score\n",
    "                   )\n",
    "\n",
    "fpr, tpr, thresholds = roc_curve(yTest_EmbeddingVector_Tfidf, \n",
    "                                 dfConsilidateResults.yPredProb_EmbeddingVector_Tfidf.as_matrix(),pos_label=1)\n",
    "\n",
    "roc_score = roc_auc_score(yTest_EmbeddingVector_Tfidf, \n",
    "                          dfConsilidateResults.yPred_EmbeddingVector_Tfidf)\n",
    "\n",
    "trace3 = go.Scatter(x=fpr, y=tpr, \n",
    "                    mode='lines', \n",
    "                    line=dict(color='red', width=lw),\n",
    "                    name='RndFrst Tfidf Embed <br>(ROC = %0.2f)' % roc_score\n",
    "                   )\n",
    "\n",
    "\n",
    "fpr, tpr, thresholds = roc_curve(yPredProb_downsample, \n",
    "                                 yTest_downsample ,pos_label=1)\n",
    "\n",
    "roc_score = roc_auc_score(yPred_downsample, \n",
    "                          yTest_downsample)\n",
    "\n",
    "trace4 = go.Scatter(x=fpr, y=tpr, \n",
    "                    mode='lines', \n",
    "                    line=dict(color='green', width=lw),\n",
    "                    name='RndFrstc on downsample <br>(ROC = %0.2f)' % roc_score\n",
    "                   )\n",
    "\n",
    "\n",
    "layout = go.Layout(title='Receiver operating characteristic',\n",
    "                   xaxis=dict(title='False Positive Rate'),\n",
    "                   yaxis=dict(title='True Positive Rate'))\n",
    "\n",
    "fig = go.Figure(data=[trace0 , trace1, trace2 ,trace3 , trace4], layout=layout)\n",
    "\n",
    "\n",
    "py.iplot(fig)"
   ]
  },
  {
   "cell_type": "markdown",
   "metadata": {},
   "source": [
    "##### Observation : Based on the above ROCs , we see that the Random Forest Method (30 trees and gini index as feature selection) performs sllightly better than the other models. \n",
    "\n",
    "We will hence choose this model as the best model for our predictions"
   ]
  },
  {
   "cell_type": "markdown",
   "metadata": {},
   "source": [
    "### Threshold selection and Model Precision"
   ]
  },
  {
   "cell_type": "code",
   "execution_count": 256,
   "metadata": {
    "collapsed": false
   },
   "outputs": [],
   "source": [
    "dfBestModel = dfConsilidateResults[[\"yTest_RndFrst_GrdSrch\",\"yPred_RndFrst_GrdSrch\",\"yPredProb_RndFrst_GrdSrch\"]]"
   ]
  },
  {
   "cell_type": "code",
   "execution_count": 263,
   "metadata": {
    "collapsed": false
   },
   "outputs": [],
   "source": [
    "dfTruePos = dfBestModel[(dfBestModel.yTest_RndFrst_GrdSrch == 1) & (dfBestModel.yPred_RndFrst_GrdSrch == 1) ]\n",
    "dfTrueNeg = dfBestModel[(dfBestModel.yTest_RndFrst_GrdSrch == 0) & (dfBestModel.yPred_RndFrst_GrdSrch == 0) ]\n",
    "dfFalsePos = dfBestModel[(dfBestModel.yTest_RndFrst_GrdSrch == 0) & (dfBestModel.yPred_RndFrst_GrdSrch == 1) ]\n",
    "dfFalseNeg = dfBestModel[(dfBestModel.yTest_RndFrst_GrdSrch == 1) & (dfBestModel.yPred_RndFrst_GrdSrch == 0) ]\n"
   ]
  },
  {
   "cell_type": "code",
   "execution_count": 299,
   "metadata": {
    "collapsed": false
   },
   "outputs": [
    {
     "data": {
      "image/png": "[encoded data removed]",
      "text/plain": [
       "<IPython.core.display.Image object>"
      ]
     },
     "execution_count": 299,
     "metadata": {},
     "output_type": "execute_result"
    }
   ],
   "source": [
    "import plotly.plotly as py\n",
    "import plotly.graph_objs as go\n",
    "\n",
    "import numpy as np\n",
    "\n",
    "\n",
    "trace0 = go.Box(\n",
    "    y=dfTruePos.yPredProb_RndFrst_GrdSrch ,\n",
    "    name =\"True Postives\"\n",
    ")\n",
    "\n",
    "trace1 = go.Box(\n",
    "    y=dfTrueNeg.yPredProb_RndFrst_GrdSrch ,\n",
    "    name =\"True Negatives\"\n",
    ")\n",
    "\n",
    "trace2 = go.Box(\n",
    "    y=dfFalsePos.yPredProb_RndFrst_GrdSrch ,\n",
    "    name =\"False Postives\"\n",
    ")\n",
    "trace3 = go.Box(\n",
    "    y=dfFalseNeg.yPredProb_RndFrst_GrdSrch ,\n",
    "    name =\"False Negatives\"\n",
    ")\n",
    "\n",
    "\n",
    "\n",
    "data = [ trace1, trace2 ,trace3  , trace0]\n",
    "py.image.save_as(data,\"plots/Analysis of confusion matrix.png\")\n",
    "\n",
    "Image(\"plots/Analysis of confusion matrix.png\")"
   ]
  },
  {
   "cell_type": "markdown",
   "metadata": {},
   "source": [
    "#### Observation : As is evident by the above graph , the model predicts the True positives with very high confidence .  Setting a threshold value  = .8 results in a model precision score of 96%"
   ]
  },
  {
   "cell_type": "markdown",
   "metadata": {},
   "source": [
    "#### Top attributes are predominately influencing the non-paid rate"
   ]
  },
  {
   "cell_type": "code",
   "execution_count": 303,
   "metadata": {
    "collapsed": false
   },
   "outputs": [],
   "source": [
    "topFeatures = rndModel_BestEst.feature_importances_\n",
    "ind = np.argpartition(topFeatures, -10)[-10:]"
   ]
  },
  {
   "cell_type": "code",
   "execution_count": 306,
   "metadata": {
    "collapsed": false
   },
   "outputs": [
    {
     "data": {
      "image/png": "[encoded data removed]",
      "text/plain": [
       "<IPython.core.display.Image object>"
      ]
     },
     "execution_count": 306,
     "metadata": {},
     "output_type": "execute_result"
    }
   ],
   "source": [
    "import plotly.plotly as py\n",
    "import plotly.graph_objs as go\n",
    "\n",
    "data = [go.Bar(\n",
    "            x=XData.columns[ind],\n",
    "            y=topFeatures[ind]\n",
    "    )]\n",
    "\n",
    "layout = go.Layout(\n",
    "    barmode='group' ,title = 'Top 10 Features influencing non payments '\n",
    ")\n",
    "\n",
    "fig = go.Figure(data=data, layout=layout)\n",
    "py.image.save_as(fig, filename='plots/top 10 features.png')\n",
    "Image(\"plots/top 10 features.png\")"
   ]
  },
  {
   "cell_type": "code",
   "execution_count": 380,
   "metadata": {
    "collapsed": false
   },
   "outputs": [],
   "source": [
    "from sklearn.preprocessing import binarize\n"
   ]
  },
  {
   "cell_type": "code",
   "execution_count": null,
   "metadata": {
    "collapsed": false
   },
   "outputs": [],
   "source": []
  },
  {
   "cell_type": "code",
   "execution_count": 395,
   "metadata": {
    "collapsed": false
   },
   "outputs": [],
   "source": [
    "ipthreshold = .05\n",
    "listPrecisionScore = []\n",
    "listFalsePositives = []\n",
    "listThresholds = []\n",
    "while ipthreshold < 1 :\n",
    "    yPredProbs = rndModel_BestEst.predict_proba(xTest)\n",
    "    yTest  = dfConsilidateResults.yTest_RndFrst_GrdSrch.as_matrix()\n",
    "    binarize(yPredProbs,threshold=ipthreshold,copy=False)\n",
    " \n",
    "\n",
    "    listPrecisionScore.append(np.around(precision_score(yTest,yPredProbs[:,1]),decimals=2))\n",
    "    listFalsePositives.append(confusion_matrix(yTest,yPredProbs[:,1])[0,1])\n",
    "    listThresholds.append(ipthreshold)\n",
    "    ipthreshold+=.05\n"
   ]
  },
  {
   "cell_type": "code",
   "execution_count": 389,
   "metadata": {
    "collapsed": false
   },
   "outputs": [
    {
     "data": {
      "image/png": "[encoded data removed]",
      "text/plain": [
       "<IPython.core.display.Image object>"
      ]
     },
     "execution_count": 389,
     "metadata": {},
     "output_type": "execute_result"
    }
   ],
   "source": [
    "trace1 = go.Scatter(\n",
    "    x=listThresholds, y=(listFalsePositives) ,mode='markers', \n",
    "    line=dict(color='red', width=lw),\n",
    "    name='yaxis data'\n",
    ")\n",
    "\n",
    "trace2 = go.Scatter(\n",
    "    x=listThresholds, y=(listPrecisionScore) ,mode='markers', \n",
    "    line=dict(color='green', width=lw),\n",
    "    name='yaxis data'\n",
    ")\n",
    "\n",
    "data = [trace1]\n",
    "layout = go.Layout(\n",
    "    title='False Positives by Confidence Thresholds on prediction probailities',\n",
    "    yaxis=dict(\n",
    "        title='# False Positives'\n",
    "    ) ,\n",
    "    xaxis=dict(\n",
    "        title='Confidence Threshold'\n",
    "    )\n",
    ")\n",
    "fig = go.Figure(data=data, layout=layout)\n",
    "py.image.save_as(fig,filename=\"plots/fp counts by threshold.png\")\n",
    "Image(\"plots/fp counts by threshold.png\")"
   ]
  },
  {
   "cell_type": "code",
   "execution_count": 396,
   "metadata": {
    "collapsed": false
   },
   "outputs": [
    {
     "data": {
      "image/png": "[encoded data removed]",
      "text/plain": [
       "<IPython.core.display.Image object>"
      ]
     },
     "execution_count": 396,
     "metadata": {},
     "output_type": "execute_result"
    }
   ],
   "source": [
    "\n",
    "trace2 = go.Scatter(\n",
    "    x=listThresholds, y=(listPrecisionScore) ,mode='markers', \n",
    "    line=dict(color='green', width=lw),\n",
    "    name='yaxis data'\n",
    ")\n",
    "\n",
    "data = [trace2]\n",
    "layout = go.Layout(\n",
    "    title='Precision by Confidence Thresholds on prediction probailities',\n",
    "    yaxis=dict(\n",
    "        title='Precision'\n",
    "    ) ,\n",
    "    xaxis=dict(\n",
    "        title='Confidence Threshold'\n",
    "    )\n",
    ")\n",
    "fig = go.Figure(data=data, layout=layout)\n",
    "py.image.save_as(fig,filename=\"plots/precision counts by threshold.png\")\n",
    "Image(\"plots/precision counts by threshold.png\")"
   ]
  },
  {
   "cell_type": "code",
   "execution_count": null,
   "metadata": {
    "collapsed": false
   },
   "outputs": [],
   "source": []
  },
  {
   "cell_type": "code",
   "execution_count": null,
   "metadata": {
    "collapsed": true
   },
   "outputs": [],
   "source": []
  }
 ],
 "metadata": {
  "kernelspec": {
   "display_name": "Python 2",
   "language": "python",
   "name": "python2"
  },
  "language_info": {
   "codemirror_mode": {
    "name": "ipython",
    "version": 2
   },
   "file_extension": ".py",
   "mimetype": "text/x-python",
   "name": "python",
   "nbconvert_exporter": "python",
   "pygments_lexer": "ipython2",
   "version": "2.7.11"
  }
 },
 "nbformat": 4,
 "nbformat_minor": 0
}
